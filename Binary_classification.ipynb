{
  "nbformat": 4,
  "nbformat_minor": 0,
  "metadata": {
    "colab": {
      "name": "Binary classification.ipynb",
      "provenance": [],
      "collapsed_sections": []
    },
    "kernelspec": {
      "name": "python3",
      "display_name": "Python 3"
    },
    "language_info": {
      "name": "python"
    }
  },
  "cells": [
    {
      "cell_type": "markdown",
      "metadata": {
        "id": "o38VQkcdKd6k"
      },
      "source": [
        "# Problem formulation\n",
        "\n",
        "\n",
        "The machine learning problem that I will solve is song prediction, given inputs of audio files. Songs are divided into two classes: Harry Potter, Star Wars. The dataset is comprised of audio recordings where participants were asked to hum or whistle to a variety of songs.\n",
        "\n",
        "This is a binary classification problem, as there are only two classes to predict. Therefore, it is fairly straight forward to train a model and test it. However, this problem is challenging and interesting, as features must be extracted from the audio files, and the correct validation techniques must be used to ascertain no biases."
      ]
    },
    {
      "cell_type": "markdown",
      "metadata": {
        "id": "N3BwrtEdLDit"
      },
      "source": [
        "# Machine Learning pipeline\n",
        "\n",
        "# **Input and Output:**\n",
        "The input to the pipeline is hum and whistle audio files (and their filenames), and the output is a prediction on whether the inputted audio file belongs to the Potter or StarWars class. The machine learning model outputs \"True\" for Potter, and \"False\" for StarWars. \n",
        "\n",
        "# **Preprocessing:**\n",
        "After the file names are inputted, a dataframe is built storing the file ID, interpretation (hum/whistle), number (e.g. hum_1 or hum_2), and song (StarWars/Potter). The file names are used as an index for this dataframe. Some preprocessing steps are used to create the dataframe. For example, sample \"S55\" was removed due to the file name adding complexity to the string processing used to construct the dataframe. Also, file names which contained spaces and led to Index Errors were also removed. Once the dataframe was constructed, the song labels and interpretation columns were processed to obtain uniformity. For example, changing \"[StarWars]\" to \"StarWars\". This was so that it could remain a binary classification problem.\n",
        "\n",
        "# **Feature Extraction:**\n",
        "Feature extraction then took place, to extract eight features from the audio files: power, pitch_mean, pitch_std, voiced_fr, tempo, mean, standard_dev, inter_quartile_range. All of these features provide important information on audio files, thus can be very valuable to train the model with.\n",
        "\n",
        "# **Feature Selection:**\n",
        "The most important features were selected in this stage (based on scores of various models, and confusion matrices). The most important features were: pitch_mean, pitch_std, and tempo.\n",
        "\n",
        "# **Transformations & Modelling:**\n",
        "A machine learning algorithm was trained in this stage, which took the normalised selected features as input to make predictions. Normalisation of the data was achieved through using StandardScaler.\n",
        "\n"
      ]
    },
    {
      "cell_type": "markdown",
      "metadata": {
        "id": "j1nDXnzYLLH6"
      },
      "source": [
        "# Transformation stage\n",
        "\n",
        "\n",
        "# **Feature Extraction:**\n",
        "Feature extraction was implemented using a similar approach to the Starter Kit  template. A getXy function was created, which took files and a labels file (dataframe) as input. Various methods from the librosa library was used to extract features from the dataset. The features which were extracted are stated in section 3. The output of the getXy function was an X numpy array containing 8 predictors for each sample, and a label array y, which contained a True (Potter) or False (StarWars) label.\n",
        "\n",
        "# **Normalisation:**\n",
        "The data was normalised before being inputted to the model. This was achieved through using sklearn's StandardScaler, which uses a z-score normalisation method. However, data leakage is a very common problem in this stage if you use cross-validation to score the model. This is because the cross-validation splits the data 4:1, and repeats this process with different folds (5 fold cross-validation). If we normalise all of the training data and perform cross validation, the StandardScaler will also fit the validation set resulting in a data leakage. To overcome this problem, a pipeline was created containing the scaler and the model. This was inputted into the GridSearchCV to cross-validate with the training data being scaled only."
      ]
    },
    {
      "cell_type": "markdown",
      "metadata": {
        "id": "0F5_kI95LuZ2"
      },
      "source": [
        "# Modelling\n",
        "\n",
        "Two common classification machine learning models were used to classify the samples: KNeighbours and Logistic Regression. \n",
        "\n",
        "**KNeighbours Classifier:** This is a simple algorithm which uses the k-nearest neighbours of the given sample to predict which class it belongs to. For example, if k = 3, two nearest neighbours belong to \"Potter\", and one neighbour belongs to \"StarWars\" the sample should be classified as \"Potter\". Understandably, selecting an appropriate value for k is heavily dependent on the dataset. In my approach, I will be using GridSearchCV to tune this parameter.\n",
        "\n",
        "**Logistic Regression:** Logistic Regression produces probabilities that a sample belongs to the class 1. As a result, it only produces values between 0-1. This probability can then be used to decide whether a sample would belong to \"Potter\" or \"Star Wars\" using the logistic function."
      ]
    },
    {
      "cell_type": "markdown",
      "metadata": {
        "id": "bPTSuaB9L2jU"
      },
      "source": [
        "# Methodology\n",
        "\n",
        "\n",
        "Models are trained using a nested cross-validation approach. This accomplishes both hyperparameter tuning, and model selection. Firstly, the data is split into a training and test set. The test set is left untouched for now. Secondly,  a pipeline is built, containing a scaler, and classifier (to ensure no data leakage in scaling). GridSearchCV is then used in an \"inner cross-validation loop\" for the hyperparameter tuning, this is computed for each iteration of the \"outer cross-validation loop\". The average accuracy over the different test folds are then printed and used as a score. The best model is chosen with regards to the score it achieves on the outer loop. \n",
        "\n",
        "This score is compared for the two algorithms (KNeighbours, Logistic Regression), and the one with the higher score is chosen to be the final model to predict the test data with. Training scores are also taken into consideration so we can see if the models are overfitting.\n",
        "\n",
        "The final model is then fit with the entirety of the X_train, y_train data so that it has more samples to learn from. The final training accuracy is obtained here. This model is then used to score X_test and y_test, and come up with a final test accuracy of the model, and a classification report.\n",
        "\n",
        "Accuracy is a good metric to use, as the classes are balanced."
      ]
    },
    {
      "cell_type": "markdown",
      "metadata": {
        "id": "HZQPxztuL9AW"
      },
      "source": [
        "# Dataset\n",
        "\n",
        "\n",
        "\n",
        "The dataset is composed of all the audio files from part 1 and part 2 of Harry Potter and Star Wars. Samples \"S55\" is removed to make string processing easier - this shouldn't have much impact on the training of the model, as it's only removing 4 samples. Samples causing IndexErrors are removed next. Overall, 10 samples are removed in total. A dataframe is built up with this information, and values in the \"song\" column are renamed so that there are only two classes: Potter and StarWars. Before doing this step there were 10+ different labels due to misspelling in the file names (StartWars, [StarWars], etc.). Interpretations (hum/whistle) are also standardised into two classes for good measure. \n",
        "\n",
        "The feature extraction extracts 8 features from the audio files. Feature selection then selects three of these features: pitch_mean, pitch_std, and tempo and adds them to the X array. The y array consists of the corresponding labels. This is the data which is used to create/validate the models.\n",
        "\n",
        "Some feature visualisations are provided. These show that there could be samples classed as \"outliers\" in the features data. I previously removed outliers using the DBSCAN algorithm, and my model accuracy increased drastically. If I was to remove all of these outliers, I would obtain a high accuracy, but when deploying this model, there would be a higher rejection rate for people with out of tune voices. My approach to this machine learning problem is that anyone should be able to input their audio file, whether they hum/whistle badly or not, and my model should be able to predict correctly. As a result, I have kept these outliers, and accepted the fact that my model accuracy may be lower than it could be, but also more inclusive."
      ]
    },
    {
      "cell_type": "code",
      "metadata": {
        "id": "lAOx8YqVzMEb",
        "colab": {
          "base_uri": "https://localhost:8080/"
        },
        "outputId": "94ab9fd3-b20b-4954-fca2-5e56c0a82c71"
      },
      "source": [
        "from google.colab import drive\n",
        "\n",
        "import numpy as np\n",
        "import pandas as pd\n",
        "import matplotlib.pyplot as plt\n",
        "\n",
        "import os, sys, re, pickle, glob\n",
        "import urllib.request\n",
        "import zipfile\n",
        "\n",
        "import IPython.display as ipd\n",
        "from tqdm import tqdm\n",
        "import librosa\n",
        "\n",
        "drive.mount('/content/drive')"
      ],
      "execution_count": null,
      "outputs": [
        {
          "output_type": "stream",
          "name": "stdout",
          "text": [
            "Mounted at /content/drive\n"
          ]
        }
      ]
    },
    {
      "cell_type": "markdown",
      "source": [
        "Import data..."
      ],
      "metadata": {
        "id": "TSobUzC15lLU"
      }
    },
    {
      "cell_type": "code",
      "metadata": {
        "id": "Ht6CXrKle3dx"
      },
      "source": [
        "hp_sw_original = hp1 + sw1 + hp2 + sw2\n",
        "\n",
        "\n",
        "for file in hp_sw_original:\n",
        "  print(file.split(\"/\")[8])"
      ],
      "execution_count": null,
      "outputs": []
    },
    {
      "cell_type": "code",
      "metadata": {
        "id": "4lsBd-dQqOe0"
      },
      "source": [
        "# Remove the \"S55\" sample.\n",
        "\n",
        "hp_sw = []\n",
        "\n",
        "for l in hp_sw_original:\n",
        "  if \"S55\" not in l:\n",
        "    hp_sw.append(l)"
      ],
      "execution_count": null,
      "outputs": []
    },
    {
      "cell_type": "code",
      "metadata": {
        "colab": {
          "base_uri": "https://localhost:8080/"
        },
        "id": "i_3EOIWjnzDY",
        "outputId": "6aefadda-d40d-406f-b2df-5ef1b03a6831"
      },
      "source": [
        "len(hp_sw)"
      ],
      "execution_count": null,
      "outputs": [
        {
          "output_type": "execute_result",
          "data": {
            "text/plain": [
              "820"
            ]
          },
          "metadata": {},
          "execution_count": 86
        }
      ]
    },
    {
      "cell_type": "code",
      "metadata": {
        "id": "C-S1GgkbncGX"
      },
      "source": [
        "# Table with information about the audio files.\n",
        "\n",
        "# Files which cause an IndexError (mostly files with spaces) are not included.\n",
        "\n",
        "hw_table = []\n",
        "index_error_files = []  # contains all the files which result in index error\n",
        "\n",
        "for file in hp_sw:\n",
        "  try:\n",
        "    # Build the dataframe\n",
        "    file_name = file.split('/')[-1]\n",
        "    participant_ID = file.split('/')[-1].split('_')[0]\n",
        "    interpretation_type = file.split('/')[-1].split('_')[1]\n",
        "    interpretation_number = file.split('/')[-1].split('_')[2]\n",
        "    song = file.split('/')[-1].split('_')[3].split('.')[0]\n",
        "    hw_table.append([file_name,participant_ID,interpretation_type,interpretation_number, song])\n",
        "  except IndexError:\n",
        "    index_error_files.append(file) # Append the file that caused index error\n",
        "    continue\n",
        "\n",
        "# hw_table"
      ],
      "execution_count": null,
      "outputs": []
    },
    {
      "cell_type": "code",
      "metadata": {
        "id": "c3QtVzmufdMo"
      },
      "source": [
        "hp_sw = [x for x in hp_sw if x not in index_error_files] # remove the files that cause index error"
      ],
      "execution_count": null,
      "outputs": []
    },
    {
      "cell_type": "code",
      "metadata": {
        "colab": {
          "base_uri": "https://localhost:8080/"
        },
        "id": "OV7Aq9pUpbpe",
        "outputId": "23c7e157-c327-4074-f1c5-bff2aaeaaf9c"
      },
      "source": [
        "len(hw_table)"
      ],
      "execution_count": null,
      "outputs": [
        {
          "output_type": "execute_result",
          "data": {
            "text/plain": [
              "814"
            ]
          },
          "metadata": {},
          "execution_count": 89
        }
      ]
    },
    {
      "cell_type": "code",
      "metadata": {
        "id": "20eB8wEA7Io6",
        "colab": {
          "base_uri": "https://localhost:8080/",
          "height": 455
        },
        "outputId": "4906340b-3a8e-4f7b-cbe9-64005a3dfa44"
      },
      "source": [
        "hw_df = pd.DataFrame(hw_table,columns=['file_id','participant','interpretation','number','song']).set_index('file_id') \n",
        "hw_df"
      ],
      "execution_count": null,
      "outputs": [
        {
          "output_type": "execute_result",
          "data": {
            "text/html": [
              "<div>\n",
              "<style scoped>\n",
              "    .dataframe tbody tr th:only-of-type {\n",
              "        vertical-align: middle;\n",
              "    }\n",
              "\n",
              "    .dataframe tbody tr th {\n",
              "        vertical-align: top;\n",
              "    }\n",
              "\n",
              "    .dataframe thead th {\n",
              "        text-align: right;\n",
              "    }\n",
              "</style>\n",
              "<table border=\"1\" class=\"dataframe\">\n",
              "  <thead>\n",
              "    <tr style=\"text-align: right;\">\n",
              "      <th></th>\n",
              "      <th>participant</th>\n",
              "      <th>interpretation</th>\n",
              "      <th>number</th>\n",
              "      <th>song</th>\n",
              "    </tr>\n",
              "    <tr>\n",
              "      <th>file_id</th>\n",
              "      <th></th>\n",
              "      <th></th>\n",
              "      <th></th>\n",
              "      <th></th>\n",
              "    </tr>\n",
              "  </thead>\n",
              "  <tbody>\n",
              "    <tr>\n",
              "      <th>S1_hum_2_Potter.wav</th>\n",
              "      <td>S1</td>\n",
              "      <td>hum</td>\n",
              "      <td>2</td>\n",
              "      <td>Potter</td>\n",
              "    </tr>\n",
              "    <tr>\n",
              "      <th>S3_hum_2_Potter.wav</th>\n",
              "      <td>S3</td>\n",
              "      <td>hum</td>\n",
              "      <td>2</td>\n",
              "      <td>Potter</td>\n",
              "    </tr>\n",
              "    <tr>\n",
              "      <th>S3_hum_1_Potter.wav</th>\n",
              "      <td>S3</td>\n",
              "      <td>hum</td>\n",
              "      <td>1</td>\n",
              "      <td>Potter</td>\n",
              "    </tr>\n",
              "    <tr>\n",
              "      <th>S1_whistle_2_Potter.wav</th>\n",
              "      <td>S1</td>\n",
              "      <td>whistle</td>\n",
              "      <td>2</td>\n",
              "      <td>Potter</td>\n",
              "    </tr>\n",
              "    <tr>\n",
              "      <th>S2_hum_2_Potter.wav</th>\n",
              "      <td>S2</td>\n",
              "      <td>hum</td>\n",
              "      <td>2</td>\n",
              "      <td>Potter</td>\n",
              "    </tr>\n",
              "    <tr>\n",
              "      <th>...</th>\n",
              "      <td>...</td>\n",
              "      <td>...</td>\n",
              "      <td>...</td>\n",
              "      <td>...</td>\n",
              "    </tr>\n",
              "    <tr>\n",
              "      <th>S219_hum_4_StarWars.wav</th>\n",
              "      <td>S219</td>\n",
              "      <td>hum</td>\n",
              "      <td>4</td>\n",
              "      <td>StarWars</td>\n",
              "    </tr>\n",
              "    <tr>\n",
              "      <th>S221_hum_1_StartWars.wav</th>\n",
              "      <td>S221</td>\n",
              "      <td>hum</td>\n",
              "      <td>1</td>\n",
              "      <td>StartWars</td>\n",
              "    </tr>\n",
              "    <tr>\n",
              "      <th>S221_hum_2_StarWars.wav</th>\n",
              "      <td>S221</td>\n",
              "      <td>hum</td>\n",
              "      <td>2</td>\n",
              "      <td>StarWars</td>\n",
              "    </tr>\n",
              "    <tr>\n",
              "      <th>S222_hum_2_StarWars.wav</th>\n",
              "      <td>S222</td>\n",
              "      <td>hum</td>\n",
              "      <td>2</td>\n",
              "      <td>StarWars</td>\n",
              "    </tr>\n",
              "    <tr>\n",
              "      <th>S222_whistle_2_StarWars.wav</th>\n",
              "      <td>S222</td>\n",
              "      <td>whistle</td>\n",
              "      <td>2</td>\n",
              "      <td>StarWars</td>\n",
              "    </tr>\n",
              "  </tbody>\n",
              "</table>\n",
              "<p>814 rows × 4 columns</p>\n",
              "</div>"
            ],
            "text/plain": [
              "                            participant interpretation number       song\n",
              "file_id                                                                 \n",
              "S1_hum_2_Potter.wav                  S1            hum      2     Potter\n",
              "S3_hum_2_Potter.wav                  S3            hum      2     Potter\n",
              "S3_hum_1_Potter.wav                  S3            hum      1     Potter\n",
              "S1_whistle_2_Potter.wav              S1        whistle      2     Potter\n",
              "S2_hum_2_Potter.wav                  S2            hum      2     Potter\n",
              "...                                 ...            ...    ...        ...\n",
              "S219_hum_4_StarWars.wav            S219            hum      4   StarWars\n",
              "S221_hum_1_StartWars.wav           S221            hum      1  StartWars\n",
              "S221_hum_2_StarWars.wav            S221            hum      2   StarWars\n",
              "S222_hum_2_StarWars.wav            S222            hum      2   StarWars\n",
              "S222_whistle_2_StarWars.wav        S222        whistle      2   StarWars\n",
              "\n",
              "[814 rows x 4 columns]"
            ]
          },
          "metadata": {},
          "execution_count": 90
        }
      ]
    },
    {
      "cell_type": "code",
      "metadata": {
        "id": "zQGthFY_kwtY"
      },
      "source": [
        "# Make sure all the interpretations are uniform. \"hum\" for hums, and \"whistle\" for whistles\n",
        "\n",
        "interpretations = hw_df[\"interpretation\"]\n",
        "new_inter = []\n",
        "for s in interpretations:\n",
        "  if \"Hum\" in s or \"hum\" in s:\n",
        "    new_inter.append(\"hum\")\n",
        "  else:\n",
        "    new_inter.append(\"whistle\")"
      ],
      "execution_count": null,
      "outputs": []
    },
    {
      "cell_type": "code",
      "metadata": {
        "id": "ZuFLgEU6dB6O"
      },
      "source": [
        "# Make sure all the labels uniform. \"Potter\" for Potter, and \"StarWars\" for Star Wars\n",
        "\n",
        "songs = hw_df[\"song\"]\n",
        "new_songs = []\n",
        "for s in songs:\n",
        "  if \"Potter\" in s or \"potter\" in s or \"Harry\" in s or \"harry\" in s:\n",
        "    new_songs.append(\"Potter\")\n",
        "  else:\n",
        "    new_songs.append(\"StarWars\")\n"
      ],
      "execution_count": null,
      "outputs": []
    },
    {
      "cell_type": "code",
      "metadata": {
        "colab": {
          "base_uri": "https://localhost:8080/"
        },
        "id": "0jj1GCo9Pl1T",
        "outputId": "f943d84f-6cbb-4f3c-dfba-2df4eb78386a"
      },
      "source": [
        "# There are many different labels, when there should only be two in each column.\n",
        "\n",
        "print(\"Interpretations:\")\n",
        "print(hw_df[\"interpretation\"].value_counts())\n",
        "print()\n",
        "print(\"Song labels:\")\n",
        "print(hw_df[\"song\"].value_counts())"
      ],
      "execution_count": null,
      "outputs": [
        {
          "output_type": "stream",
          "name": "stdout",
          "text": [
            "Interpretations:\n",
            "hum        561\n",
            "whistle    221\n",
            "Hum         20\n",
            "Whistle      8\n",
            "whisle       2\n",
            "whislte      1\n",
            "hum2         1\n",
            "Name: interpretation, dtype: int64\n",
            "\n",
            "Song labels:\n",
            "Potter           344\n",
            "StarWars         323\n",
            "[Potter]          34\n",
            "[StarWars]        29\n",
            "Starwars          21\n",
            "potter            13\n",
            "starwars           7\n",
            "Potter             4\n",
            "[potter]           4\n",
            "Imperial           3\n",
            "[STARWARS]         2\n",
            "Star wars          2\n",
            "(potter)           2\n",
            "star               2\n",
            "star wars          2\n",
            "StarsWars          2\n",
            "[ Star Wars ]      2\n",
            "(starwars)         2\n",
            "starwar            2\n",
            "[Starwars]         2\n",
            "Harry              2\n",
            "[StarWars]         2\n",
            "[Potter]           2\n",
            "March              1\n",
            "[StatWars]         1\n",
            "harry potter       1\n",
            "Potterwav          1\n",
            "imperial           1\n",
            "StartWars          1\n",
            "Name: song, dtype: int64\n"
          ]
        }
      ]
    },
    {
      "cell_type": "code",
      "metadata": {
        "id": "Wk0MmG4eiTWc"
      },
      "source": [
        "# Replace interpretations and song labels with processed values\n",
        "hw_df[\"interpretation\"] = pd.Series(new_inter).values\n",
        "hw_df[\"song\"] = pd.Series(new_songs).values"
      ],
      "execution_count": null,
      "outputs": []
    },
    {
      "cell_type": "code",
      "metadata": {
        "colab": {
          "base_uri": "https://localhost:8080/"
        },
        "id": "wps5XEKxj_Ny",
        "outputId": "b0cb9c66-32c1-4754-a138-c7feb073050d"
      },
      "source": [
        "# That's better!\n",
        "hw_df[\"song\"].value_counts()"
      ],
      "execution_count": null,
      "outputs": [
        {
          "output_type": "execute_result",
          "data": {
            "text/plain": [
              "StarWars    407\n",
              "Potter      407\n",
              "Name: song, dtype: int64"
            ]
          },
          "metadata": {},
          "execution_count": 96
        }
      ]
    },
    {
      "cell_type": "code",
      "metadata": {
        "colab": {
          "base_uri": "https://localhost:8080/"
        },
        "id": "YiTn8bqxjzeg",
        "outputId": "1a76dbf1-b157-461c-822f-2c4550fdcc64"
      },
      "source": [
        "hw_df[\"interpretation\"].value_counts()"
      ],
      "execution_count": null,
      "outputs": [
        {
          "output_type": "execute_result",
          "data": {
            "text/plain": [
              "hum        582\n",
              "whistle    232\n",
              "Name: interpretation, dtype: int64"
            ]
          },
          "metadata": {},
          "execution_count": 97
        }
      ]
    },
    {
      "cell_type": "code",
      "metadata": {
        "id": "fiXYO1tdJgIs"
      },
      "source": [
        "def getPitch(x,fs,winLen=0.02):\n",
        "  #winLen = 0.02 \n",
        "  p = winLen*fs\n",
        "  frame_length = int(2**int(p-1).bit_length())\n",
        "  hop_length = frame_length//2\n",
        "  f0, voiced_flag, voiced_probs = librosa.pyin(y=x, fmin=80, fmax=450, sr=fs,\n",
        "                                                 frame_length=frame_length,hop_length=hop_length)\n",
        "  return f0,voiced_flag"
      ],
      "execution_count": null,
      "outputs": []
    },
    {
      "cell_type": "code",
      "metadata": {
        "id": "NEMwPrVmMHZa"
      },
      "source": [
        "import scipy.stats\n",
        "\n",
        "def getXy(files,labels_file, scale_audio=False, onlySingleDigit=False):\n",
        "  X,y =[],[]\n",
        "  for file in tqdm(files):\n",
        "    fileID = file.split('/')[-1]\n",
        "    file_name = file.split('/')[-1]\n",
        "    yi = labels_file.loc[fileID]['song']=='Potter'\n",
        "\n",
        "    fs = None # if None, fs would be 22050\n",
        "    x, fs = librosa.load(file,sr=fs)\n",
        "    if scale_audio: x = x/np.max(np.abs(x))\n",
        "    f0, voiced_flag = getPitch(x,fs,winLen=0.02)\n",
        "      \n",
        "    freqs = np.fft.fftfreq(x.size)\n",
        "          \n",
        "    power = np.sum(x**2)/len(x)\n",
        "    pitch_mean = np.nanmean(f0) if np.mean(np.isnan(f0))<1 else 0\n",
        "    pitch_std  = np.nanstd(f0) if np.mean(np.isnan(f0))<1 else 0\n",
        "    voiced_fr = np.mean(voiced_flag) # extract voiced fr\n",
        "    tempo = librosa.beat.tempo(x)[0] # Extract tempo\n",
        "    mean = np.mean(freqs) # extract mean freqs\n",
        "    standard_dev = np.std(freqs) # extract standard deviation freqs\n",
        "    inter_quartile_range = scipy.stats.iqr(freqs) # extract iqr of freqs\n",
        "\n",
        "    # Extract MFCC - not used in final implementation \n",
        "    # xi = []\n",
        "    # mfcc = librosa.feature.mfcc(x, n_mfcc=13, sr=fs)\n",
        "    # for c in mfcc:\n",
        "    #   xi.append(c.mean())\n",
        "\n",
        "    xi = [power, pitch_mean, pitch_std, voiced_fr, tempo, mean, standard_dev, inter_quartile_range]\n",
        "\n",
        "    X.append(xi)\n",
        "    y.append(yi)\n",
        "\n",
        "  return np.array(X),np.array(y)"
      ],
      "execution_count": null,
      "outputs": []
    },
    {
      "cell_type": "code",
      "metadata": {
        "id": "jkjX_Zu9NNUs"
      },
      "source": [
        "X,y = getXy(hp_sw, labels_file=hw_df, scale_audio=True, onlySingleDigit=True)"
      ],
      "execution_count": null,
      "outputs": []
    },
    {
      "cell_type": "code",
      "metadata": {
        "id": "QATSb9tZeGLB"
      },
      "source": [
        "X = np.load(\"X_values2_extras.npy\")\n",
        "y = np.load(\"y_values2_extras.npy\")"
      ],
      "execution_count": null,
      "outputs": []
    },
    {
      "cell_type": "code",
      "metadata": {
        "id": "3HGOoVafmaTs",
        "colab": {
          "base_uri": "https://localhost:8080/"
        },
        "outputId": "4a2f2383-627e-434a-f746-cd6c49f88be8"
      },
      "source": [
        "print('The shape of X is', X.shape)\n",
        "print('The shape of y is', y.shape)\n",
        "print('The first value in the labels vector is', y[0])\n",
        "print(\"Potter is True, StarWars is False\")"
      ],
      "execution_count": null,
      "outputs": [
        {
          "output_type": "stream",
          "name": "stdout",
          "text": [
            "The shape of X is (814, 8)\n",
            "The shape of y is (814,)\n",
            "The first value in the labels vector is True\n",
            "Potter is True, StarWars is False\n"
          ]
        }
      ]
    },
    {
      "cell_type": "code",
      "metadata": {
        "colab": {
          "base_uri": "https://localhost:8080/"
        },
        "id": "4OcCtGkuz1fc",
        "outputId": "35c6864b-e9f1-4b45-d98b-dc37ee74e4b5"
      },
      "source": [
        "# After experimenting, only these 3 features are the most important.\n",
        "# Feature selection\n",
        "\n",
        "feature_list = []\n",
        "\n",
        "for features in X:\n",
        "  feature_list.append([features[1], features[2], features[4]])\n",
        "\n",
        "X = feature_list\n",
        "\n",
        "print(feature_list[0])\n"
      ],
      "execution_count": null,
      "outputs": [
        {
          "output_type": "stream",
          "name": "stdout",
          "text": [
            "[107.62876897985909, 14.832539463078726, 86.1328125]\n"
          ]
        }
      ]
    },
    {
      "cell_type": "code",
      "source": [
        "fig = plt.figure()\n",
        "ax = fig.add_subplot(111, projection=\"3d\")\n",
        "for e in X:\n",
        "  ax.scatter3D(e[0], e[1], e[2], alpha=0.4, c=\"k\")\n",
        "ax.set_title(\"Scatter plot of the features used for modelling\")\n",
        "ax.set_xlabel('pitch_mean')\n",
        "ax.set_ylabel('pitch_std')\n",
        "ax.set_zlabel('tempo')"
      ],
      "metadata": {
        "colab": {
          "base_uri": "https://localhost:8080/",
          "height": 265
        },
        "id": "fP8FaB6W02fe",
        "outputId": "47f5b353-fda2-43ae-9d9b-707513cb5c03"
      },
      "execution_count": null,
      "outputs": [
        {
          "output_type": "execute_result",
          "data": {
            "text/plain": [
              "Text(0.5, 0, 'tempo')"
            ]
          },
          "metadata": {},
          "execution_count": 24
        },
        {
          "output_type": "display_data",
          "data": {
            "image/png": "[encoded data removed]",
            "text/plain": [
              "<Figure size 432x288 with 1 Axes>"
            ]
          },
          "metadata": {
            "needs_background": "light"
          }
        }
      ]
    },
    {
      "cell_type": "code",
      "source": [
        "import matplotlib.pyplot as plt\n",
        "\n",
        "pitch_mean = []\n",
        "\n",
        "for e in X:\n",
        "    pitch_mean.append(e[0])\n",
        "\n",
        "#len(pitch_mean)\n",
        "plt.hist(pitch_mean, bins=20, rwidth=0.8)\n",
        "plt.title(\"Number of samples with a given pitch mean\")\n",
        "plt.xlabel(\"Pitch mean\")\n",
        "plt.ylabel(\"Frequency\")"
      ],
      "metadata": {
        "colab": {
          "base_uri": "https://localhost:8080/",
          "height": 312
        },
        "id": "rtlZvGInKgZC",
        "outputId": "510b4a4f-2b16-4067-c1bc-d29e5f381bb1"
      },
      "execution_count": null,
      "outputs": [
        {
          "output_type": "execute_result",
          "data": {
            "text/plain": [
              "Text(0, 0.5, 'Frequency')"
            ]
          },
          "metadata": {},
          "execution_count": 25
        },
        {
          "output_type": "display_data",
          "data": {
            "image/png": "[encoded data removed]",
            "text/plain": [
              "<Figure size 432x288 with 1 Axes>"
            ]
          },
          "metadata": {
            "needs_background": "light"
          }
        }
      ]
    },
    {
      "cell_type": "markdown",
      "source": [
        "There are no outliers to remove regarding pitch mean."
      ],
      "metadata": {
        "id": "Ya_z3Ti6DzPG"
      }
    },
    {
      "cell_type": "code",
      "source": [
        "pitch_std = []\n",
        "\n",
        "for e in X:\n",
        "    pitch_std.append(e[1])\n",
        "\n",
        "plt.hist(pitch_std, bins=20, rwidth=0.8)\n",
        "plt.title(\"Number of samples with a given pitch std\")\n",
        "plt.xlabel(\"Pitch std\")\n",
        "plt.ylabel(\"Frequency\")"
      ],
      "metadata": {
        "colab": {
          "base_uri": "https://localhost:8080/",
          "height": 312
        },
        "id": "ubt8cv0HRXx3",
        "outputId": "99431f23-ce07-416f-f940-d03602dd08ec"
      },
      "execution_count": null,
      "outputs": [
        {
          "output_type": "execute_result",
          "data": {
            "text/plain": [
              "Text(0, 0.5, 'Frequency')"
            ]
          },
          "metadata": {},
          "execution_count": 26
        },
        {
          "output_type": "display_data",
          "data": {
            "image/png": "[encoded data removed]",
            "text/plain": [
              "<Figure size 432x288 with 1 Axes>"
            ]
          },
          "metadata": {
            "needs_background": "light"
          }
        }
      ]
    },
    {
      "cell_type": "markdown",
      "source": [
        "This data has some samples with a pitch standard deviation of greater than 80. These could be considered as outliers and may reduce the performance of the model."
      ],
      "metadata": {
        "id": "uxE_YbrODqQP"
      }
    },
    {
      "cell_type": "code",
      "source": [
        "pitch_tempo = []\n",
        "\n",
        "for e in X:\n",
        "    pitch_tempo.append(e[2])\n",
        "\n",
        "plt.hist(pitch_tempo, bins=20, rwidth=0.8)\n",
        "plt.title(\"Number of samples with a given tempo\")\n",
        "plt.xlabel(\"Tempo\")\n",
        "plt.ylabel(\"Frequency\")"
      ],
      "metadata": {
        "colab": {
          "base_uri": "https://localhost:8080/",
          "height": 312
        },
        "id": "cR4Lh39ASh2F",
        "outputId": "ba17460a-818e-4cc5-b038-ac6fb5ed4410"
      },
      "execution_count": null,
      "outputs": [
        {
          "output_type": "execute_result",
          "data": {
            "text/plain": [
              "Text(0, 0.5, 'Frequency')"
            ]
          },
          "metadata": {},
          "execution_count": 27
        },
        {
          "output_type": "display_data",
          "data": {
            "image/png": "[encoded data removed]",
            "text/plain": [
              "<Figure size 432x288 with 1 Axes>"
            ]
          },
          "metadata": {
            "needs_background": "light"
          }
        }
      ]
    },
    {
      "cell_type": "markdown",
      "source": [
        "This data follows a normal distribution. Samples outside of 3 standard deviations could be removed in outlier detection. However, I have decided to keep them in."
      ],
      "metadata": {
        "id": "oV3wKaq1DfpJ"
      }
    },
    {
      "cell_type": "markdown",
      "metadata": {
        "id": "2qf7GN1aeXJI"
      },
      "source": [
        "# Results\n",
        "\n",
        "After training and cross validating, the KNeighborsClassifier performed better than the LogisticRegression. The training accuracy of the best KNeighborsClassifier was 0.74, compared to LogisticRegression's 0.57. The averaged cross validation accuracy of the KNeighboursClassifier was 0.67, compared to 0.58 of the LogisticRegression. Finally, the test accuracy of the KNeighboursClassifier was 0.64. Test accuracy of the LogisticRegression wasn't calculated as we are not choosing this model based on its other scores, so there is no reason to predict the test set when we have a better model available.\n",
        "\n",
        "There are a plethora of reasons explaining why LogisticRegression could have performed worse than the KNeighboursClassifier. One likely reason is that the 2 classes are not linearly separable, so the algorithm struggles to classify. On the other hand, KNeighbours is non-parametric and uses distance measures, so it doesn't need to calculate a boundary. Another reason could be due to the hyperparameter tuning. In my implementation, I used many different hyperparameter tuning methods for KNeighbours (n_neighbours, metric, weights), whereas for LogisticRegression I only tuned the C parameter.\n",
        "\n",
        "In any case, the accuracies obtained by both of these algorithms are not very high (as 50% is the worst for a binary classification problem). This could be due to the presence of outliers, sub-optimal feature extraction/selection, and overfitting on the training set."
      ]
    },
    {
      "cell_type": "code",
      "metadata": {
        "id": "OrnCTDUOyNiV"
      },
      "source": [
        "from sklearn import svm\n",
        "from sklearn.linear_model import LogisticRegression\n",
        "from sklearn.model_selection import train_test_split\n",
        "from sklearn.metrics import confusion_matrix\n",
        "from sklearn.preprocessing import StandardScaler\n",
        "from sklearn.model_selection import KFold\n",
        "from sklearn.model_selection import cross_val_score\n",
        "from sklearn.model_selection import cross_validate\n",
        "from sklearn.model_selection import GridSearchCV\n",
        "from sklearn.neighbors import KNeighborsClassifier\n",
        "from sklearn.metrics import classification_report\n",
        "from sklearn.decomposition import PCA\n",
        "from sklearn.preprocessing import MinMaxScaler\n",
        "import matplotlib.pyplot as plt\n",
        "from sklearn.cluster import DBSCAN\n",
        "from sklearn.pipeline import Pipeline\n",
        "from sklearn.pipeline import make_pipeline\n",
        "import seaborn as sn\n",
        "import pandas as pd\n",
        "\n",
        "X_train, X_test, y_train, y_test = train_test_split(X,y,test_size=0.2,stratify=y)"
      ],
      "execution_count": null,
      "outputs": []
    },
    {
      "cell_type": "code",
      "source": [
        "inner_cross = KFold(n_splits=3, shuffle=True, random_state=5)\n",
        "\n",
        "neigh_pipe = Pipeline([(\"scalar\", StandardScaler()),\n",
        "                     (\"neigh\", KNeighborsClassifier())])\n",
        "\n",
        "parameters = {\n",
        "    \"neigh__n_neighbors\": [5, 11, 15, 25, 35],\n",
        "    \"neigh__metric\": [\"manhattan\", \"euclidean\"],\n",
        "    \"neigh__weights\": [\"distance\", \"uniform\"]\n",
        "}\n",
        "\n",
        "gridSearch = GridSearchCV(estimator=neigh_pipe,\n",
        "                          param_grid=parameters,\n",
        "                          cv=inner_cross,\n",
        "                          refit=True)\n",
        "\n",
        "outer_cross = KFold(n_splits=10, shuffle=True, random_state=5)\n",
        "score = cross_val_score(gridSearch, X_train, y_train, cv=outer_cross)\n",
        "print(\"Cross Validation Score: \", score.mean())"
      ],
      "metadata": {
        "colab": {
          "base_uri": "https://localhost:8080/"
        },
        "id": "Oh5-yHLntmlK",
        "outputId": "b83f5e2a-3359-4077-f4c2-7e1019fe3a5b"
      },
      "execution_count": null,
      "outputs": [
        {
          "output_type": "stream",
          "name": "stdout",
          "text": [
            "Cross Validation Score:  0.6727972027972028\n"
          ]
        }
      ]
    },
    {
      "cell_type": "code",
      "source": [
        "gridSearch.fit(X_train, y_train)\n",
        "print(\"Train accuracy: \", gridSearch.score(X_train, y_train))\n",
        "print(\"Test accuracy: \", gridSearch.score(X_test, y_test))\n",
        "\n",
        "print(classification_report(y_test, gridSearch.predict(X_test)))"
      ],
      "metadata": {
        "colab": {
          "base_uri": "https://localhost:8080/"
        },
        "id": "hPQ5y2ZPwebE",
        "outputId": "d31b5b98-9fc9-4a24-8936-08d2098abd58"
      },
      "execution_count": null,
      "outputs": [
        {
          "output_type": "stream",
          "name": "stdout",
          "text": [
            "Train accuracy:  0.7465437788018433\n",
            "Test accuracy:  0.6441717791411042\n",
            "              precision    recall  f1-score   support\n",
            "\n",
            "       False       0.66      0.59      0.62        81\n",
            "        True       0.63      0.70      0.66        82\n",
            "\n",
            "    accuracy                           0.64       163\n",
            "   macro avg       0.65      0.64      0.64       163\n",
            "weighted avg       0.65      0.64      0.64       163\n",
            "\n"
          ]
        }
      ]
    },
    {
      "cell_type": "code",
      "source": [
        "inner_cross = KFold(n_splits=3, shuffle=True, random_state=5)\n",
        "\n",
        "lgr_pipe = Pipeline([(\"scalar\", StandardScaler()),\n",
        "                     (\"lr\", LogisticRegression())])\n",
        "\n",
        "params = {\n",
        "    \"lr__C\": np.logspace(-3,3,20),\n",
        "}\n",
        "\n",
        "gridSearch_lgr = GridSearchCV(estimator=lgr_pipe,\n",
        "                          param_grid=params,\n",
        "                          cv=inner_cross,\n",
        "                          refit=True)\n",
        "\n",
        "outer_cross = KFold(n_splits=10, shuffle=True, random_state=5)\n",
        "score = cross_val_score(gridSearch_lgr, X_train, y_train, cv=outer_cross)\n",
        "print(\"Score: \", score.mean())"
      ],
      "metadata": {
        "colab": {
          "base_uri": "https://localhost:8080/"
        },
        "id": "e46pv1cW32T4",
        "outputId": "123d569f-b8d5-4d79-e50e-076b87811528"
      },
      "execution_count": null,
      "outputs": [
        {
          "output_type": "stream",
          "name": "stdout",
          "text": [
            "Score:  0.5852680652680653\n"
          ]
        }
      ]
    },
    {
      "cell_type": "code",
      "source": [
        "gridSearch_lgr.fit(X_train, y_train)\n",
        "gridSearch_lgr.score(X_train, y_train)"
      ],
      "metadata": {
        "colab": {
          "base_uri": "https://localhost:8080/"
        },
        "id": "-Rw4zjZtO7jf",
        "outputId": "7c2439df-7bdf-4b5b-bd92-b59c1c52ba7c"
      },
      "execution_count": null,
      "outputs": [
        {
          "output_type": "execute_result",
          "data": {
            "text/plain": [
              "0.5775729646697388"
            ]
          },
          "metadata": {},
          "execution_count": 81
        }
      ]
    },
    {
      "cell_type": "markdown",
      "metadata": {
        "id": "fSrJCR_cekPO"
      },
      "source": [
        "# Conclusions\n",
        "\n",
        "In conclusion, it can be said that KNeighbours performed better on this dataset compared to LogisticRegression. However, it is also clear that the accuracy of the algorithms could probably be improved. To accomplish this, different features should be extracted, (MFCC's didn't improve the accuracy) or different features should be selected to find the most optimal. To test the idea that LogisticRegression performed badly, we could train an SVM and see how it performs on this data, as SVM's are able to handle more complex decision boundaries. If we want a more strict model which is able to predict more accurately, we could also remove outliers in the future."
      ]
    }
  ]
}