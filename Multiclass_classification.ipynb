{
  "nbformat": 4,
  "nbformat_minor": 0,
  "metadata": {
    "colab": {
      "name": "Multiclass classification.ipynb",
      "provenance": [],
      "collapsed_sections": []
    },
    "kernelspec": {
      "name": "python3",
      "display_name": "Python 3"
    },
    "language_info": {
      "name": "python"
    }
  },
  "cells": [
    {
      "cell_type": "markdown",
      "metadata": {
        "id": "o38VQkcdKd6k"
      },
      "source": [
        "# Problem formulation\n",
        "\n",
        "\n",
        "The machine learning problem I want to solve is predicting participants ID (S1, S2, etc.), given their humming audio file. This is a classification problem which uses the characteristics from their voice to identify their ID. This is very interesting, as if we have enough labelled audio recordings with someones humming, we may be able to predict who they are. This could have many uses, for example in crime suspect investigation. It also has implications for personal privacy. "
      ]
    },
    {
      "cell_type": "markdown",
      "metadata": {
        "id": "N3BwrtEdLDit"
      },
      "source": [
        "# Machine Learning pipeline\n",
        "\n",
        "\n",
        "Input and Output:\n",
        "The input to the pipeline is hum audio files (and their filenames) from the hum and whistles dataset, and the output is a prediction on whether the inputted audio file belongs to a given participant. The machine learning model outputs the ID of the participant. Only 25 participants are used for this model.\n",
        "\n",
        "Preprocessing:\n",
        "After the file names are inputted, a dataframe is built storing the file ID, interpretation (hum), number (e.g. hum_1 or hum_2), and song. The file names are used as an index for this dataframe. No whistle data will be used for solving this problem. Some preprocessing steps are used to create the dataframe. For example, sample \"S55\" was removed due to the file name adding complexity to the string processing used to construct the dataframe. Also, file names which contained spaces and led to Index Errors were also removed.\n",
        "\n",
        "Feature Extraction:\n",
        "Feature extraction then took place, to extract ten features from the audio files: power, pitch_mean, pitch_std, voiced_fr, tempo, mean, standard_dev, inter_quartile_range, spectral_centroid, spectral_rolloff. All of these features provide important information on audio files, thus can be very valuable to train the model with.\n",
        "\n",
        "Feature Selection:\n",
        "The most important features were selected in this stage (based on scores of various models, and confusion matrices). The most important features which ended up being selected were: power, pitch_mean, pitch_std, voiced_fr, spectral_centroid, spectral_rolloff.\n",
        "\n",
        "Transformations & Modelling:\n",
        "A machine learning algorithm was trained in this stage, which took the normalised selected features as input to make predictions. Normalisation of the data was achieved through using StandardScaler."
      ]
    },
    {
      "cell_type": "markdown",
      "metadata": {
        "id": "j1nDXnzYLLH6"
      },
      "source": [
        "# Transformation stage\n",
        "\n",
        "\n",
        "Feature Extraction:\n",
        "Feature extraction was implemented using a similar approach to the Starter Kit  template. A getXy function was created, which took files and a labels file (dataframe) as input. Various methods from the librosa library were used to extract features from the dataset. The features which were extracted are stated in section 3. The output of the getXy function was an X numpy array containing 8 predictors for each sample, and a label array y, which contained the label of the participant.\n",
        "\n",
        "Normalisation:\n",
        "The data was normalised before being inputted to the model. This was achieved through using sklearn's StandardScaler, which uses a z-score normalisation method. However, data leakage is a very common problem in this stage if you use cross-validation to score the model. This is because the cross-validation splits the data 4:1, and repeats this process with different folds (5 fold cross-validation). If we normalise all of the training data and perform cross validation, the StandardScaler will also fit the validation set resulting in a data leakage. To overcome this problem, a pipeline was created containing the scaler and the model. This was inputted into the GridSearchCV to cross-validate with the training data being scaled only."
      ]
    },
    {
      "cell_type": "markdown",
      "metadata": {
        "id": "0F5_kI95LuZ2"
      },
      "source": [
        "# Modelling\n",
        "\n",
        "SVM: SVM's transform inputted data and finds boundaries that find the largest separation between two classes. SVM's usually support binary classification, and this machine learning problem has 25 classes. Therefore a one-vs-rest SVM approach must be used. This separates points belonging to different classes rather than just one.\n",
        "\n",
        "ExtraTreesClassifier: ExtraTreeClassifiers are similar to RandomTreeClassifiers, however it is less \"greedy\" as it uses a random value for the split for the extra tree. ExtraTreeClassifiers can perform better than RandomTreeClassifiers on noisy datasets.\n",
        "\n",
        "\n"
      ]
    },
    {
      "cell_type": "markdown",
      "metadata": {
        "id": "bPTSuaB9L2jU"
      },
      "source": [
        "# Methodology\n",
        "\n",
        "Models are trained using a nested cross-validation approach. This accomplishes both hyperparameter tuning, and model selection. Firstly, the data is split into a training and test set. The test set is left untouched for now. Secondly,  a pipeline is built, containing a scaler, and classifier (to ensure no data leakage in scaling). GridSearchCV is then used in an \"inner cross-validation loop\" for the hyperparameter tuning, this is computed for each iteration of the \"outer cross-validation loop\". The average accuracy over the different test folds are then printed and used as a score. The best model is chosen with regards to the score it achieves on the outer loop. \n",
        "\n",
        "This score is compared for the two algorithms (SVM, ExtraTreesClassifier), and the one with the higher score is chosen to be the final model to predict the test data with. Training scores are also taken into consideration so we can see if the models are overfitting.\n",
        "\n",
        "The final model is then fit with the entirety of the X_train, y_train data so that it has more samples to learn from. The final training accuracy is obtained here. This model is then used to score X_test and y_test, and come up with a final test accuracy of the model, and a classification report.\n",
        "\n",
        "Accuracy is a good metric to use, as the classes are balanced."
      ]
    },
    {
      "cell_type": "markdown",
      "metadata": {
        "id": "HZQPxztuL9AW"
      },
      "source": [
        "# Dataset\n",
        "\n",
        "Describe the dataset that you will use to create your models and validate them. If you need to preprocess it, do it here. Include visualisations too. You can visualise raw data samples or extracted features.\n",
        "\n",
        "The dataset used to build the models are obtained from inputted audio files. After the preprocessing, oddly named files, and whistle files are removed. Then the following features are extracted in the getXy method, using the librosa library: power, pitch_mean, pitch_std, voiced_fr, tempo, mean, standard_dev, inter_quartile_range, spectral_centroid, spectral_rolloff. Spectral centroid is an especially useful feature to have, as it measures the timbre in audio, which can help identify different samples. Tempo is not a very good feature to identify individuals as tempo tends to change for different songs. \n",
        "\n",
        "After the features are extracted, some of the hum files are removed. Better models can be produced if we only try to predict participants that have contributed a substantial amount of samples to the Hums and Whistles dataset. As the maximum number of files that a participant can have is 16, only features for these participants are kept. \n",
        "\n",
        "As the number of participants left in the dataset is 80+, a subset of this dataset containing 25 participants is used to train/validate/test the model. As a result there are 16 (files) * 25 (participants) = 400 samples\n"
      ]
    },
    {
      "cell_type": "code",
      "metadata": {
        "id": "lAOx8YqVzMEb",
        "colab": {
          "base_uri": "https://localhost:8080/"
        },
        "outputId": "a2c10f03-b9e0-4aa1-d1fc-4f438056415a"
      },
      "source": [
        "from google.colab import drive\n",
        "from google.colab import files\n",
        "\n",
        "import numpy as np\n",
        "import pandas as pd\n",
        "import matplotlib.pyplot as plt\n",
        "\n",
        "import os, sys, re, pickle, glob\n",
        "import urllib.request\n",
        "import zipfile\n",
        "\n",
        "import IPython.display as ipd\n",
        "from tqdm import tqdm\n",
        "import librosa\n",
        "\n",
        "drive.mount('/content/drive')"
      ],
      "execution_count": null,
      "outputs": [
        {
          "output_type": "stream",
          "name": "stdout",
          "text": [
            "Mounted at /content/drive\n"
          ]
        }
      ]
    },
    {
      "cell_type": "markdown",
      "source": [
        "Import files..."
      ],
      "metadata": {
        "id": "HndIVKj67Kq8"
      }
    },
    {
      "cell_type": "code",
      "metadata": {
        "id": "Ht6CXrKle3dx"
      },
      "source": [
        "hp_sw_original = hp1 + hp2 + sw1 + sw2 + p1 + p2 + r1 + r2 + hak1 + hak2 + mam1 + mam2 + sh1 + sh2 + fr1 + fr2\n",
        "\n",
        "\n",
        "# for file in hp_sw_original:\n",
        "#   print(file.split(\"/\")[8])"
      ],
      "execution_count": null,
      "outputs": []
    },
    {
      "cell_type": "code",
      "metadata": {
        "id": "4lsBd-dQqOe0"
      },
      "source": [
        "# Remove the \"S55\" sample.\n",
        "\n",
        "hp_sw = []\n",
        "\n",
        "for l in hp_sw_original:\n",
        "  if \"S55\" not in l:\n",
        "    hp_sw.append(l)"
      ],
      "execution_count": null,
      "outputs": []
    },
    {
      "cell_type": "code",
      "source": [
        "# Code to remove the whistles samples\n",
        "\n",
        "whistles = []\n",
        "\n",
        "for s in hp_sw:\n",
        "  interpretation_type = s.split('/')[-1].split('_')[1]\n",
        "  if interpretation_type[0] == \"w\" or interpretation_type[0] == \"W\":\n",
        "    whistles.append(s)\n",
        "\n",
        "hp_sw = [x for x in hp_sw if x not in whistles] "
      ],
      "metadata": {
        "id": "uIZKROxP71wi"
      },
      "execution_count": null,
      "outputs": []
    },
    {
      "cell_type": "code",
      "metadata": {
        "id": "C-S1GgkbncGX"
      },
      "source": [
        "# Table with information about the audio files.\n",
        "# Files which cause an IndexError (mostly files with spaces) are not included.\n",
        "\n",
        "hw_table = []\n",
        "index_error_files = []  # all the files which result in index error\n",
        "\n",
        "for file in hp_sw:\n",
        "  try:\n",
        "    file_name = file.split('/')[-1]\n",
        "    participant_ID = file.split('/')[-1].split('_')[0]\n",
        "    interpretation_type = file.split('/')[-1].split('_')[1]\n",
        "    interpretation_number = file.split('/')[-1].split('_')[2]\n",
        "    song = file.split('/')[-1].split('_')[3].split('.')[0]\n",
        "    hw_table.append([file_name,participant_ID,interpretation_type,interpretation_number, song])\n",
        "  except IndexError:\n",
        "    index_error_files.append(file) # Append the file that caused index error\n",
        "    continue\n",
        "\n",
        "# hw_table"
      ],
      "execution_count": null,
      "outputs": []
    },
    {
      "cell_type": "code",
      "metadata": {
        "id": "c3QtVzmufdMo"
      },
      "source": [
        "hp_sw = [x for x in hp_sw if x not in index_error_files] # remove the files that cause index error"
      ],
      "execution_count": null,
      "outputs": []
    },
    {
      "cell_type": "code",
      "metadata": {
        "colab": {
          "base_uri": "https://localhost:8080/"
        },
        "id": "OV7Aq9pUpbpe",
        "outputId": "d8bbab31-052b-425c-efcd-7e047dc89900"
      },
      "source": [
        "len(hw_table)"
      ],
      "execution_count": null,
      "outputs": [
        {
          "output_type": "execute_result",
          "data": {
            "text/plain": [
              "2333"
            ]
          },
          "metadata": {},
          "execution_count": 325
        }
      ]
    },
    {
      "cell_type": "code",
      "metadata": {
        "id": "20eB8wEA7Io6",
        "colab": {
          "base_uri": "https://localhost:8080/",
          "height": 455
        },
        "outputId": "d3bbff74-67a7-4e79-d860-eb65e3027d42"
      },
      "source": [
        "hw_df = pd.DataFrame(hw_table,columns=['file_id','participant','interpretation','number','song']).set_index('file_id') \n",
        "hw_df"
      ],
      "execution_count": null,
      "outputs": [
        {
          "output_type": "execute_result",
          "data": {
            "text/html": [
              "<div>\n",
              "<style scoped>\n",
              "    .dataframe tbody tr th:only-of-type {\n",
              "        vertical-align: middle;\n",
              "    }\n",
              "\n",
              "    .dataframe tbody tr th {\n",
              "        vertical-align: top;\n",
              "    }\n",
              "\n",
              "    .dataframe thead th {\n",
              "        text-align: right;\n",
              "    }\n",
              "</style>\n",
              "<table border=\"1\" class=\"dataframe\">\n",
              "  <thead>\n",
              "    <tr style=\"text-align: right;\">\n",
              "      <th></th>\n",
              "      <th>participant</th>\n",
              "      <th>interpretation</th>\n",
              "      <th>number</th>\n",
              "      <th>song</th>\n",
              "    </tr>\n",
              "    <tr>\n",
              "      <th>file_id</th>\n",
              "      <th></th>\n",
              "      <th></th>\n",
              "      <th></th>\n",
              "      <th></th>\n",
              "    </tr>\n",
              "  </thead>\n",
              "  <tbody>\n",
              "    <tr>\n",
              "      <th>S1_hum_2_Potter.wav</th>\n",
              "      <td>S1</td>\n",
              "      <td>hum</td>\n",
              "      <td>2</td>\n",
              "      <td>Potter</td>\n",
              "    </tr>\n",
              "    <tr>\n",
              "      <th>S3_hum_2_Potter.wav</th>\n",
              "      <td>S3</td>\n",
              "      <td>hum</td>\n",
              "      <td>2</td>\n",
              "      <td>Potter</td>\n",
              "    </tr>\n",
              "    <tr>\n",
              "      <th>S3_hum_1_Potter.wav</th>\n",
              "      <td>S3</td>\n",
              "      <td>hum</td>\n",
              "      <td>1</td>\n",
              "      <td>Potter</td>\n",
              "    </tr>\n",
              "    <tr>\n",
              "      <th>S2_hum_2_Potter.wav</th>\n",
              "      <td>S2</td>\n",
              "      <td>hum</td>\n",
              "      <td>2</td>\n",
              "      <td>Potter</td>\n",
              "    </tr>\n",
              "    <tr>\n",
              "      <th>S4_hum_1_Potter.wav</th>\n",
              "      <td>S4</td>\n",
              "      <td>hum</td>\n",
              "      <td>1</td>\n",
              "      <td>Potter</td>\n",
              "    </tr>\n",
              "    <tr>\n",
              "      <th>...</th>\n",
              "      <td>...</td>\n",
              "      <td>...</td>\n",
              "      <td>...</td>\n",
              "      <td>...</td>\n",
              "    </tr>\n",
              "    <tr>\n",
              "      <th>S219_hum_2_Frozen.wav</th>\n",
              "      <td>S219</td>\n",
              "      <td>hum</td>\n",
              "      <td>2</td>\n",
              "      <td>Frozen</td>\n",
              "    </tr>\n",
              "    <tr>\n",
              "      <th>S219_hum_4_Frozen.wav</th>\n",
              "      <td>S219</td>\n",
              "      <td>hum</td>\n",
              "      <td>4</td>\n",
              "      <td>Frozen</td>\n",
              "    </tr>\n",
              "    <tr>\n",
              "      <th>S221_hum_1_Frozen.wav</th>\n",
              "      <td>S221</td>\n",
              "      <td>hum</td>\n",
              "      <td>1</td>\n",
              "      <td>Frozen</td>\n",
              "    </tr>\n",
              "    <tr>\n",
              "      <th>S221_hum_2_Frozen.wav</th>\n",
              "      <td>S221</td>\n",
              "      <td>hum</td>\n",
              "      <td>2</td>\n",
              "      <td>Frozen</td>\n",
              "    </tr>\n",
              "    <tr>\n",
              "      <th>S222_hum_2_Frozen.wav</th>\n",
              "      <td>S222</td>\n",
              "      <td>hum</td>\n",
              "      <td>2</td>\n",
              "      <td>Frozen</td>\n",
              "    </tr>\n",
              "  </tbody>\n",
              "</table>\n",
              "<p>2333 rows × 4 columns</p>\n",
              "</div>"
            ],
            "text/plain": [
              "                      participant interpretation number    song\n",
              "file_id                                                        \n",
              "S1_hum_2_Potter.wav            S1            hum      2  Potter\n",
              "S3_hum_2_Potter.wav            S3            hum      2  Potter\n",
              "S3_hum_1_Potter.wav            S3            hum      1  Potter\n",
              "S2_hum_2_Potter.wav            S2            hum      2  Potter\n",
              "S4_hum_1_Potter.wav            S4            hum      1  Potter\n",
              "...                           ...            ...    ...     ...\n",
              "S219_hum_2_Frozen.wav        S219            hum      2  Frozen\n",
              "S219_hum_4_Frozen.wav        S219            hum      4  Frozen\n",
              "S221_hum_1_Frozen.wav        S221            hum      1  Frozen\n",
              "S221_hum_2_Frozen.wav        S221            hum      2  Frozen\n",
              "S222_hum_2_Frozen.wav        S222            hum      2  Frozen\n",
              "\n",
              "[2333 rows x 4 columns]"
            ]
          },
          "metadata": {},
          "execution_count": 326
        }
      ]
    },
    {
      "cell_type": "code",
      "metadata": {
        "colab": {
          "base_uri": "https://localhost:8080/"
        },
        "id": "0jj1GCo9Pl1T",
        "outputId": "19a795e2-2ef5-4ec3-f525-1b445a8e38e8"
      },
      "source": [
        "print(\"Interpretations:\")\n",
        "print(hw_df[\"interpretation\"].value_counts())\n",
        "print()\n",
        "print(\"Song labels:\")\n",
        "print(hw_df[\"song\"].value_counts())"
      ],
      "execution_count": null,
      "outputs": [
        {
          "output_type": "stream",
          "name": "stdout",
          "text": [
            "Interpretations:\n",
            "hum     2246\n",
            "Hum       83\n",
            "hum2       2\n",
            "Hun        1\n",
            "ham        1\n",
            "Name: interpretation, dtype: int64\n",
            "\n",
            "Song labels:\n",
            "Hakuna          250\n",
            "Frozen          249\n",
            "Panther         247\n",
            "Rain            244\n",
            "Mamma           242\n",
            "               ... \n",
            "[Mamma]           1\n",
            "pinkpanther       1\n",
            "[  Panther ]      1\n",
            "[Hukuna]          1\n",
            "imperial          1\n",
            "Name: song, Length: 90, dtype: int64\n"
          ]
        }
      ]
    },
    {
      "cell_type": "code",
      "metadata": {
        "id": "zQGthFY_kwtY",
        "colab": {
          "base_uri": "https://localhost:8080/"
        },
        "outputId": "bda43b5b-5a70-4618-f153-33cc2f1df27e"
      },
      "source": [
        "# Make sure all the interpretations are uniform. \"hum\" for hums\n",
        "\n",
        "interpretations = hw_df[\"interpretation\"]\n",
        "new_inter = []\n",
        "\n",
        "for s in interpretations:\n",
        "    new_inter.append(\"hum\")\n",
        "\n",
        "hw_df[\"interpretation\"] = pd.Series(new_inter).values\n",
        "\n",
        "hw_df[\"interpretation\"].value_counts()"
      ],
      "execution_count": null,
      "outputs": [
        {
          "output_type": "execute_result",
          "data": {
            "text/plain": [
              "hum    2333\n",
              "Name: interpretation, dtype: int64"
            ]
          },
          "metadata": {},
          "execution_count": 328
        }
      ]
    },
    {
      "cell_type": "code",
      "metadata": {
        "id": "fiXYO1tdJgIs"
      },
      "source": [
        "def getPitch(x,fs,winLen=0.02):\n",
        "  #winLen = 0.02 \n",
        "  p = winLen*fs\n",
        "  frame_length = int(2**int(p-1).bit_length())\n",
        "  hop_length = frame_length//2\n",
        "  f0, voiced_flag, voiced_probs = librosa.pyin(y=x, fmin=80, fmax=450, sr=fs,\n",
        "                                                 frame_length=frame_length,hop_length=hop_length)\n",
        "  return f0,voiced_flag"
      ],
      "execution_count": null,
      "outputs": []
    },
    {
      "cell_type": "code",
      "metadata": {
        "id": "NEMwPrVmMHZa"
      },
      "source": [
        "import scipy.stats\n",
        "\n",
        "def getXy(files,labels_file, scale_audio=False, onlySingleDigit=False):\n",
        "  X,y =[],[]\n",
        "  for file in tqdm(files):\n",
        "    fileID = file.split('/')[-1]\n",
        "    file_name = file.split('/')[-1]\n",
        "    yi = labels_file.loc[fileID]['participant']\n",
        "\n",
        "    fs = None # if None, fs would be 22050\n",
        "    x, fs = librosa.load(file,sr=fs)\n",
        "    if scale_audio: x = x/np.max(np.abs(x))\n",
        "    f0, voiced_flag = getPitch(x,fs,winLen=0.02)\n",
        "      \n",
        "    freqs = np.fft.fftfreq(x.size)\n",
        "\n",
        "    # calculate features for feature extraction      \n",
        "    power = np.sum(x**2)/len(x)\n",
        "    pitch_mean = np.nanmean(f0) if np.mean(np.isnan(f0))<1 else 0\n",
        "    pitch_std  = np.nanstd(f0) if np.mean(np.isnan(f0))<1 else 0\n",
        "    voiced_fr = np.mean(voiced_flag)\n",
        "    tempo = librosa.beat.tempo(x)[0] \n",
        "    mean = np.mean(freqs) \n",
        "    standard_dev = np.std(freqs) \n",
        "    inter_quartile_range = scipy.stats.iqr(freqs) \n",
        "    spectral_centroid = librosa.feature.spectral_centroid(x, sr=fs)[0].mean()\n",
        "    spectral_rolloff = librosa.feature.spectral_rolloff(x+0.01, sr=fs)[0].mean()\n",
        "\n",
        "    # xi = []\n",
        "    # mfcc = librosa.feature.mfcc(x, n_mfcc=13, sr=fs)\n",
        "    # for c in mfcc:\n",
        "    #   xi.append(c.mean())\n",
        "\n",
        "    xi = [power, pitch_mean, pitch_std, voiced_fr, tempo, mean, standard_dev, inter_quartile_range, spectral_centroid, spectral_rolloff]\n",
        "\n",
        "    X.append(xi)\n",
        "    y.append(yi)\n",
        "\n",
        "  return np.array(X),np.array(y)"
      ],
      "execution_count": null,
      "outputs": []
    },
    {
      "cell_type": "code",
      "metadata": {
        "id": "jkjX_Zu9NNUs",
        "colab": {
          "base_uri": "https://localhost:8080/"
        },
        "outputId": "065efba5-7481-474a-b4cc-925ee3f122eb"
      },
      "source": [
        "X,y = getXy(hp_sw, labels_file=hw_df, scale_audio=True, onlySingleDigit=True)"
      ],
      "execution_count": null,
      "outputs": [
        {
          "output_type": "stream",
          "name": "stderr",
          "text": [
            "100%|██████████| 2333/2333 [2:14:40<00:00,  3.46s/it]\n"
          ]
        }
      ]
    },
    {
      "cell_type": "code",
      "metadata": {
        "id": "JftwYE6szcvY"
      },
      "source": [
        "# np.save(\"P2_X_values_extras2_final\", X)\n",
        "# np.save(\"P2_y_values_extras2_final\", y)"
      ],
      "execution_count": null,
      "outputs": []
    },
    {
      "cell_type": "code",
      "metadata": {
        "id": "QATSb9tZeGLB"
      },
      "source": [
        "# Loaded from X, y function above\n",
        "\n",
        "X = np.load(\"P2_X_values_extras2_final.npy\")\n",
        "y = np.load(\"P2_y_values_extras2_final.npy\")"
      ],
      "execution_count": null,
      "outputs": []
    },
    {
      "cell_type": "code",
      "metadata": {
        "id": "3HGOoVafmaTs",
        "colab": {
          "base_uri": "https://localhost:8080/"
        },
        "outputId": "21dee46d-4436-41e6-de88-dae43345aa2e"
      },
      "source": [
        "print('The shape of X is', X.shape)\n",
        "print('The shape of y is', y.shape)\n",
        "print('The first two elements of the labels vector are', y[0], y[1])"
      ],
      "execution_count": null,
      "outputs": [
        {
          "output_type": "stream",
          "name": "stdout",
          "text": [
            "The shape of X is (2333, 10)\n",
            "The shape of y is (2333,)\n",
            "The first two elements of the labels vector are S1 S3\n"
          ]
        }
      ]
    },
    {
      "cell_type": "code",
      "source": [
        "# Create dataframe from the X and y arrays\n",
        "\n",
        "Xy_df = pd.DataFrame(data=X, columns=[\"power\", \"pitch_mean\", \"pitch_std\", \"voiced_fr\", \"tempo\", \"mean\", \"standard_dev\", \"inter_quartile_range\", \"spectral_centroid\", \"spectral_rolloff\"])\n",
        "Xy_df[\"label\"] = pd.Series(y)\n",
        "Xy_df[\"label\"].value_counts()"
      ],
      "metadata": {
        "colab": {
          "base_uri": "https://localhost:8080/"
        },
        "id": "6siW2tUPHL1Y",
        "outputId": "63a15186-c17f-4163-dfb6-73d2abaeb105"
      },
      "execution_count": null,
      "outputs": [
        {
          "output_type": "execute_result",
          "data": {
            "text/plain": [
              "S5      16\n",
              "S199    16\n",
              "S137    16\n",
              "S206    16\n",
              "S62     16\n",
              "        ..\n",
              "S6       7\n",
              "S96      6\n",
              "S178     5\n",
              "S50      2\n",
              "S183     1\n",
              "Name: label, Length: 206, dtype: int64"
            ]
          },
          "metadata": {},
          "execution_count": 334
        }
      ]
    },
    {
      "cell_type": "code",
      "source": [
        "# These are all the participants that have more than 15 samples.\n",
        "\n",
        "Xy_df = Xy_df.groupby('label').filter(lambda x : len(x)>15)\n",
        "Xy_df.reset_index(drop=True, inplace=True)\n",
        "Xy_df[\"label\"].value_counts()"
      ],
      "metadata": {
        "colab": {
          "base_uri": "https://localhost:8080/"
        },
        "id": "0kQKW9mgOwct",
        "outputId": "9431b1b0-1a3e-4c16-e149-21d17e3844ca"
      },
      "execution_count": null,
      "outputs": [
        {
          "output_type": "execute_result",
          "data": {
            "text/plain": [
              "S82     16\n",
              "S169    16\n",
              "S219    16\n",
              "S63     16\n",
              "S4      16\n",
              "        ..\n",
              "S70     16\n",
              "S157    16\n",
              "S51     16\n",
              "S5      16\n",
              "S38     16\n",
              "Name: label, Length: 78, dtype: int64"
            ]
          },
          "metadata": {},
          "execution_count": 302
        }
      ]
    },
    {
      "cell_type": "code",
      "source": [
        "display(Xy_df)"
      ],
      "metadata": {
        "colab": {
          "base_uri": "https://localhost:8080/",
          "height": 424
        },
        "id": "ONPTwcC7QCFB",
        "outputId": "d5f98345-0ff4-4155-e608-e3c4e5e8bf57"
      },
      "execution_count": null,
      "outputs": [
        {
          "output_type": "display_data",
          "data": {
            "text/html": [
              "<div>\n",
              "<style scoped>\n",
              "    .dataframe tbody tr th:only-of-type {\n",
              "        vertical-align: middle;\n",
              "    }\n",
              "\n",
              "    .dataframe tbody tr th {\n",
              "        vertical-align: top;\n",
              "    }\n",
              "\n",
              "    .dataframe thead th {\n",
              "        text-align: right;\n",
              "    }\n",
              "</style>\n",
              "<table border=\"1\" class=\"dataframe\">\n",
              "  <thead>\n",
              "    <tr style=\"text-align: right;\">\n",
              "      <th></th>\n",
              "      <th>power</th>\n",
              "      <th>pitch_mean</th>\n",
              "      <th>pitch_std</th>\n",
              "      <th>voiced_fr</th>\n",
              "      <th>tempo</th>\n",
              "      <th>mean</th>\n",
              "      <th>standard_dev</th>\n",
              "      <th>inter_quartile_range</th>\n",
              "      <th>spectral_centroid</th>\n",
              "      <th>spectral_rolloff</th>\n",
              "      <th>label</th>\n",
              "    </tr>\n",
              "  </thead>\n",
              "  <tbody>\n",
              "    <tr>\n",
              "      <th>0</th>\n",
              "      <td>0.017007</td>\n",
              "      <td>308.963787</td>\n",
              "      <td>62.459475</td>\n",
              "      <td>0.726965</td>\n",
              "      <td>86.132812</td>\n",
              "      <td>-1.679682e-17</td>\n",
              "      <td>0.288675</td>\n",
              "      <td>0.499999</td>\n",
              "      <td>2795.391334</td>\n",
              "      <td>1035.081817</td>\n",
              "      <td>S4</td>\n",
              "    </tr>\n",
              "    <tr>\n",
              "      <th>1</th>\n",
              "      <td>0.013179</td>\n",
              "      <td>328.960849</td>\n",
              "      <td>54.961412</td>\n",
              "      <td>0.839824</td>\n",
              "      <td>123.046875</td>\n",
              "      <td>-9.178877e-19</td>\n",
              "      <td>0.288675</td>\n",
              "      <td>0.499999</td>\n",
              "      <td>5866.649794</td>\n",
              "      <td>10888.889056</td>\n",
              "      <td>S5</td>\n",
              "    </tr>\n",
              "    <tr>\n",
              "      <th>2</th>\n",
              "      <td>0.028984</td>\n",
              "      <td>312.970885</td>\n",
              "      <td>63.886706</td>\n",
              "      <td>0.719570</td>\n",
              "      <td>73.828125</td>\n",
              "      <td>-1.863708e-17</td>\n",
              "      <td>0.288675</td>\n",
              "      <td>0.499999</td>\n",
              "      <td>2690.345685</td>\n",
              "      <td>1450.330610</td>\n",
              "      <td>S4</td>\n",
              "    </tr>\n",
              "    <tr>\n",
              "      <th>3</th>\n",
              "      <td>0.021068</td>\n",
              "      <td>334.779764</td>\n",
              "      <td>47.934276</td>\n",
              "      <td>0.932806</td>\n",
              "      <td>123.046875</td>\n",
              "      <td>2.299929e-18</td>\n",
              "      <td>0.288675</td>\n",
              "      <td>0.499999</td>\n",
              "      <td>2827.700496</td>\n",
              "      <td>3417.254084</td>\n",
              "      <td>S5</td>\n",
              "    </tr>\n",
              "    <tr>\n",
              "      <th>4</th>\n",
              "      <td>0.038937</td>\n",
              "      <td>338.400158</td>\n",
              "      <td>59.866070</td>\n",
              "      <td>0.837856</td>\n",
              "      <td>129.199219</td>\n",
              "      <td>-1.326229e-17</td>\n",
              "      <td>0.288675</td>\n",
              "      <td>0.499999</td>\n",
              "      <td>1643.871114</td>\n",
              "      <td>2106.265735</td>\n",
              "      <td>S7</td>\n",
              "    </tr>\n",
              "    <tr>\n",
              "      <th>...</th>\n",
              "      <td>...</td>\n",
              "      <td>...</td>\n",
              "      <td>...</td>\n",
              "      <td>...</td>\n",
              "      <td>...</td>\n",
              "      <td>...</td>\n",
              "      <td>...</td>\n",
              "      <td>...</td>\n",
              "      <td>...</td>\n",
              "      <td>...</td>\n",
              "      <td>...</td>\n",
              "    </tr>\n",
              "    <tr>\n",
              "      <th>1243</th>\n",
              "      <td>0.055146</td>\n",
              "      <td>301.017382</td>\n",
              "      <td>68.431139</td>\n",
              "      <td>0.874032</td>\n",
              "      <td>135.999178</td>\n",
              "      <td>1.089084e-17</td>\n",
              "      <td>0.288675</td>\n",
              "      <td>0.499999</td>\n",
              "      <td>1975.278364</td>\n",
              "      <td>3081.839305</td>\n",
              "      <td>S212</td>\n",
              "    </tr>\n",
              "    <tr>\n",
              "      <th>1244</th>\n",
              "      <td>0.047624</td>\n",
              "      <td>154.737755</td>\n",
              "      <td>21.201614</td>\n",
              "      <td>0.837190</td>\n",
              "      <td>123.046875</td>\n",
              "      <td>-8.077440e-07</td>\n",
              "      <td>0.288675</td>\n",
              "      <td>0.499999</td>\n",
              "      <td>1439.231559</td>\n",
              "      <td>2378.991840</td>\n",
              "      <td>S216</td>\n",
              "    </tr>\n",
              "    <tr>\n",
              "      <th>1245</th>\n",
              "      <td>0.056660</td>\n",
              "      <td>151.983326</td>\n",
              "      <td>19.421555</td>\n",
              "      <td>0.821839</td>\n",
              "      <td>103.359375</td>\n",
              "      <td>-8.024343e-07</td>\n",
              "      <td>0.288675</td>\n",
              "      <td>0.499999</td>\n",
              "      <td>1871.278282</td>\n",
              "      <td>3033.847993</td>\n",
              "      <td>S216</td>\n",
              "    </tr>\n",
              "    <tr>\n",
              "      <th>1246</th>\n",
              "      <td>0.031687</td>\n",
              "      <td>307.023398</td>\n",
              "      <td>39.501277</td>\n",
              "      <td>0.618716</td>\n",
              "      <td>129.199219</td>\n",
              "      <td>-7.558533e-07</td>\n",
              "      <td>0.288675</td>\n",
              "      <td>0.499999</td>\n",
              "      <td>2656.996347</td>\n",
              "      <td>2247.546812</td>\n",
              "      <td>S219</td>\n",
              "    </tr>\n",
              "    <tr>\n",
              "      <th>1247</th>\n",
              "      <td>0.047295</td>\n",
              "      <td>311.761314</td>\n",
              "      <td>36.530366</td>\n",
              "      <td>0.626450</td>\n",
              "      <td>135.999178</td>\n",
              "      <td>-7.558533e-07</td>\n",
              "      <td>0.288675</td>\n",
              "      <td>0.499999</td>\n",
              "      <td>3002.811066</td>\n",
              "      <td>2050.084175</td>\n",
              "      <td>S219</td>\n",
              "    </tr>\n",
              "  </tbody>\n",
              "</table>\n",
              "<p>1248 rows × 11 columns</p>\n",
              "</div>"
            ],
            "text/plain": [
              "         power  pitch_mean  ...  spectral_rolloff  label\n",
              "0     0.017007  308.963787  ...       1035.081817     S4\n",
              "1     0.013179  328.960849  ...      10888.889056     S5\n",
              "2     0.028984  312.970885  ...       1450.330610     S4\n",
              "3     0.021068  334.779764  ...       3417.254084     S5\n",
              "4     0.038937  338.400158  ...       2106.265735     S7\n",
              "...        ...         ...  ...               ...    ...\n",
              "1243  0.055146  301.017382  ...       3081.839305   S212\n",
              "1244  0.047624  154.737755  ...       2378.991840   S216\n",
              "1245  0.056660  151.983326  ...       3033.847993   S216\n",
              "1246  0.031687  307.023398  ...       2247.546812   S219\n",
              "1247  0.047295  311.761314  ...       2050.084175   S219\n",
              "\n",
              "[1248 rows x 11 columns]"
            ]
          },
          "metadata": {}
        }
      ]
    },
    {
      "cell_type": "code",
      "source": [
        "Xy_df[Xy_df[\"label\"] == \"S4\"]"
      ],
      "metadata": {
        "colab": {
          "base_uri": "https://localhost:8080/",
          "height": 424
        },
        "id": "-ADemWF-rsiT",
        "outputId": "c7190cfc-7e19-4430-d8cc-b29e7d79655c"
      },
      "execution_count": null,
      "outputs": [
        {
          "output_type": "execute_result",
          "data": {
            "text/html": [
              "<div>\n",
              "<style scoped>\n",
              "    .dataframe tbody tr th:only-of-type {\n",
              "        vertical-align: middle;\n",
              "    }\n",
              "\n",
              "    .dataframe tbody tr th {\n",
              "        vertical-align: top;\n",
              "    }\n",
              "\n",
              "    .dataframe thead th {\n",
              "        text-align: right;\n",
              "    }\n",
              "</style>\n",
              "<table border=\"1\" class=\"dataframe\">\n",
              "  <thead>\n",
              "    <tr style=\"text-align: right;\">\n",
              "      <th></th>\n",
              "      <th>power</th>\n",
              "      <th>pitch_mean</th>\n",
              "      <th>pitch_std</th>\n",
              "      <th>voiced_fr</th>\n",
              "      <th>tempo</th>\n",
              "      <th>mean</th>\n",
              "      <th>standard_dev</th>\n",
              "      <th>inter_quartile_range</th>\n",
              "      <th>spectral_centroid</th>\n",
              "      <th>spectral_rolloff</th>\n",
              "      <th>label</th>\n",
              "    </tr>\n",
              "  </thead>\n",
              "  <tbody>\n",
              "    <tr>\n",
              "      <th>0</th>\n",
              "      <td>0.017007</td>\n",
              "      <td>308.963787</td>\n",
              "      <td>62.459475</td>\n",
              "      <td>0.726965</td>\n",
              "      <td>86.132812</td>\n",
              "      <td>-1.679682e-17</td>\n",
              "      <td>0.288675</td>\n",
              "      <td>0.499999</td>\n",
              "      <td>2795.391334</td>\n",
              "      <td>1035.081817</td>\n",
              "      <td>S4</td>\n",
              "    </tr>\n",
              "    <tr>\n",
              "      <th>2</th>\n",
              "      <td>0.028984</td>\n",
              "      <td>312.970885</td>\n",
              "      <td>63.886706</td>\n",
              "      <td>0.719570</td>\n",
              "      <td>73.828125</td>\n",
              "      <td>-1.863708e-17</td>\n",
              "      <td>0.288675</td>\n",
              "      <td>0.499999</td>\n",
              "      <td>2690.345685</td>\n",
              "      <td>1450.330610</td>\n",
              "      <td>S4</td>\n",
              "    </tr>\n",
              "    <tr>\n",
              "      <th>156</th>\n",
              "      <td>0.063465</td>\n",
              "      <td>262.946686</td>\n",
              "      <td>51.377866</td>\n",
              "      <td>0.848503</td>\n",
              "      <td>99.384014</td>\n",
              "      <td>-2.237495e-17</td>\n",
              "      <td>0.288675</td>\n",
              "      <td>0.499999</td>\n",
              "      <td>1784.456374</td>\n",
              "      <td>982.662604</td>\n",
              "      <td>S4</td>\n",
              "    </tr>\n",
              "    <tr>\n",
              "      <th>157</th>\n",
              "      <td>0.070295</td>\n",
              "      <td>268.108647</td>\n",
              "      <td>54.692175</td>\n",
              "      <td>0.823090</td>\n",
              "      <td>107.666016</td>\n",
              "      <td>-3.692656e-18</td>\n",
              "      <td>0.288675</td>\n",
              "      <td>0.499999</td>\n",
              "      <td>1748.283107</td>\n",
              "      <td>947.139362</td>\n",
              "      <td>S4</td>\n",
              "    </tr>\n",
              "    <tr>\n",
              "      <th>312</th>\n",
              "      <td>0.033509</td>\n",
              "      <td>263.047430</td>\n",
              "      <td>46.191048</td>\n",
              "      <td>0.716372</td>\n",
              "      <td>184.570312</td>\n",
              "      <td>1.487799e-18</td>\n",
              "      <td>0.288675</td>\n",
              "      <td>0.499999</td>\n",
              "      <td>2887.481092</td>\n",
              "      <td>940.956288</td>\n",
              "      <td>S4</td>\n",
              "    </tr>\n",
              "    <tr>\n",
              "      <th>...</th>\n",
              "      <td>...</td>\n",
              "      <td>...</td>\n",
              "      <td>...</td>\n",
              "      <td>...</td>\n",
              "      <td>...</td>\n",
              "      <td>...</td>\n",
              "      <td>...</td>\n",
              "      <td>...</td>\n",
              "      <td>...</td>\n",
              "      <td>...</td>\n",
              "      <td>...</td>\n",
              "    </tr>\n",
              "    <tr>\n",
              "      <th>781</th>\n",
              "      <td>0.044449</td>\n",
              "      <td>311.246557</td>\n",
              "      <td>39.360249</td>\n",
              "      <td>0.645657</td>\n",
              "      <td>135.999178</td>\n",
              "      <td>1.487799e-18</td>\n",
              "      <td>0.288675</td>\n",
              "      <td>0.499999</td>\n",
              "      <td>3455.296160</td>\n",
              "      <td>1765.639900</td>\n",
              "      <td>S4</td>\n",
              "    </tr>\n",
              "    <tr>\n",
              "      <th>936</th>\n",
              "      <td>0.032700</td>\n",
              "      <td>299.156274</td>\n",
              "      <td>48.461525</td>\n",
              "      <td>0.721154</td>\n",
              "      <td>95.703125</td>\n",
              "      <td>1.314542e-17</td>\n",
              "      <td>0.288675</td>\n",
              "      <td>0.499999</td>\n",
              "      <td>2729.158038</td>\n",
              "      <td>1057.029225</td>\n",
              "      <td>S4</td>\n",
              "    </tr>\n",
              "    <tr>\n",
              "      <th>937</th>\n",
              "      <td>0.028448</td>\n",
              "      <td>291.630764</td>\n",
              "      <td>47.365450</td>\n",
              "      <td>0.719053</td>\n",
              "      <td>95.703125</td>\n",
              "      <td>-2.333247e-18</td>\n",
              "      <td>0.288675</td>\n",
              "      <td>0.499999</td>\n",
              "      <td>2441.903713</td>\n",
              "      <td>890.518159</td>\n",
              "      <td>S4</td>\n",
              "    </tr>\n",
              "    <tr>\n",
              "      <th>1092</th>\n",
              "      <td>0.036784</td>\n",
              "      <td>371.577494</td>\n",
              "      <td>55.766593</td>\n",
              "      <td>0.811306</td>\n",
              "      <td>143.554688</td>\n",
              "      <td>-1.568246e-17</td>\n",
              "      <td>0.288675</td>\n",
              "      <td>0.499999</td>\n",
              "      <td>2263.677712</td>\n",
              "      <td>1598.704619</td>\n",
              "      <td>S4</td>\n",
              "    </tr>\n",
              "    <tr>\n",
              "      <th>1093</th>\n",
              "      <td>0.041696</td>\n",
              "      <td>369.952920</td>\n",
              "      <td>52.250422</td>\n",
              "      <td>0.769943</td>\n",
              "      <td>143.554688</td>\n",
              "      <td>1.230789e-17</td>\n",
              "      <td>0.288675</td>\n",
              "      <td>0.499999</td>\n",
              "      <td>2530.132195</td>\n",
              "      <td>1952.865209</td>\n",
              "      <td>S4</td>\n",
              "    </tr>\n",
              "  </tbody>\n",
              "</table>\n",
              "<p>16 rows × 11 columns</p>\n",
              "</div>"
            ],
            "text/plain": [
              "         power  pitch_mean  ...  spectral_rolloff  label\n",
              "0     0.017007  308.963787  ...       1035.081817     S4\n",
              "2     0.028984  312.970885  ...       1450.330610     S4\n",
              "156   0.063465  262.946686  ...        982.662604     S4\n",
              "157   0.070295  268.108647  ...        947.139362     S4\n",
              "312   0.033509  263.047430  ...        940.956288     S4\n",
              "...        ...         ...  ...               ...    ...\n",
              "781   0.044449  311.246557  ...       1765.639900     S4\n",
              "936   0.032700  299.156274  ...       1057.029225     S4\n",
              "937   0.028448  291.630764  ...        890.518159     S4\n",
              "1092  0.036784  371.577494  ...       1598.704619     S4\n",
              "1093  0.041696  369.952920  ...       1952.865209     S4\n",
              "\n",
              "[16 rows x 11 columns]"
            ]
          },
          "metadata": {},
          "execution_count": 304
        }
      ]
    },
    {
      "cell_type": "code",
      "source": [
        "Xy_df[Xy_df[\"label\"] == \"S4\"].describe()"
      ],
      "metadata": {
        "colab": {
          "base_uri": "https://localhost:8080/",
          "height": 300
        },
        "id": "2ukjsDz4siXk",
        "outputId": "48695c01-1a3f-4160-8fd3-2757034af7db"
      },
      "execution_count": null,
      "outputs": [
        {
          "output_type": "execute_result",
          "data": {
            "text/html": [
              "<div>\n",
              "<style scoped>\n",
              "    .dataframe tbody tr th:only-of-type {\n",
              "        vertical-align: middle;\n",
              "    }\n",
              "\n",
              "    .dataframe tbody tr th {\n",
              "        vertical-align: top;\n",
              "    }\n",
              "\n",
              "    .dataframe thead th {\n",
              "        text-align: right;\n",
              "    }\n",
              "</style>\n",
              "<table border=\"1\" class=\"dataframe\">\n",
              "  <thead>\n",
              "    <tr style=\"text-align: right;\">\n",
              "      <th></th>\n",
              "      <th>power</th>\n",
              "      <th>pitch_mean</th>\n",
              "      <th>pitch_std</th>\n",
              "      <th>voiced_fr</th>\n",
              "      <th>tempo</th>\n",
              "      <th>mean</th>\n",
              "      <th>standard_dev</th>\n",
              "      <th>inter_quartile_range</th>\n",
              "      <th>spectral_centroid</th>\n",
              "      <th>spectral_rolloff</th>\n",
              "    </tr>\n",
              "  </thead>\n",
              "  <tbody>\n",
              "    <tr>\n",
              "      <th>count</th>\n",
              "      <td>16.000000</td>\n",
              "      <td>16.000000</td>\n",
              "      <td>16.000000</td>\n",
              "      <td>16.000000</td>\n",
              "      <td>16.000000</td>\n",
              "      <td>1.600000e+01</td>\n",
              "      <td>1.600000e+01</td>\n",
              "      <td>1.600000e+01</td>\n",
              "      <td>16.000000</td>\n",
              "      <td>16.000000</td>\n",
              "    </tr>\n",
              "    <tr>\n",
              "      <th>mean</th>\n",
              "      <td>0.038524</td>\n",
              "      <td>299.985718</td>\n",
              "      <td>52.554747</td>\n",
              "      <td>0.749874</td>\n",
              "      <td>123.906801</td>\n",
              "      <td>1.580191e-20</td>\n",
              "      <td>2.886751e-01</td>\n",
              "      <td>4.999993e-01</td>\n",
              "      <td>2599.440427</td>\n",
              "      <td>1212.605382</td>\n",
              "    </tr>\n",
              "    <tr>\n",
              "      <th>std</th>\n",
              "      <td>0.014554</td>\n",
              "      <td>33.257012</td>\n",
              "      <td>8.270315</td>\n",
              "      <td>0.062628</td>\n",
              "      <td>30.574886</td>\n",
              "      <td>1.266473e-17</td>\n",
              "      <td>6.189484e-14</td>\n",
              "      <td>7.995552e-08</td>\n",
              "      <td>532.855880</td>\n",
              "      <td>340.162094</td>\n",
              "    </tr>\n",
              "    <tr>\n",
              "      <th>min</th>\n",
              "      <td>0.017007</td>\n",
              "      <td>262.946686</td>\n",
              "      <td>39.360249</td>\n",
              "      <td>0.641141</td>\n",
              "      <td>73.828125</td>\n",
              "      <td>-2.237495e-17</td>\n",
              "      <td>2.886751e-01</td>\n",
              "      <td>4.999992e-01</td>\n",
              "      <td>1748.283107</td>\n",
              "      <td>701.468727</td>\n",
              "    </tr>\n",
              "    <tr>\n",
              "      <th>25%</th>\n",
              "      <td>0.028850</td>\n",
              "      <td>271.824377</td>\n",
              "      <td>47.071850</td>\n",
              "      <td>0.718383</td>\n",
              "      <td>98.463792</td>\n",
              "      <td>-6.690107e-18</td>\n",
              "      <td>2.886751e-01</td>\n",
              "      <td>4.999993e-01</td>\n",
              "      <td>2260.628976</td>\n",
              "      <td>973.781793</td>\n",
              "    </tr>\n",
              "    <tr>\n",
              "      <th>50%</th>\n",
              "      <td>0.037779</td>\n",
              "      <td>299.154376</td>\n",
              "      <td>50.853611</td>\n",
              "      <td>0.746061</td>\n",
              "      <td>126.123047</td>\n",
              "      <td>1.526367e-18</td>\n",
              "      <td>2.886751e-01</td>\n",
              "      <td>4.999993e-01</td>\n",
              "      <td>2525.123212</td>\n",
              "      <td>1095.982530</td>\n",
              "    </tr>\n",
              "    <tr>\n",
              "      <th>75%</th>\n",
              "      <td>0.044941</td>\n",
              "      <td>311.677639</td>\n",
              "      <td>57.109705</td>\n",
              "      <td>0.798380</td>\n",
              "      <td>143.554688</td>\n",
              "      <td>7.202068e-18</td>\n",
              "      <td>2.886751e-01</td>\n",
              "      <td>4.999994e-01</td>\n",
              "      <td>2818.413773</td>\n",
              "      <td>1386.429185</td>\n",
              "    </tr>\n",
              "    <tr>\n",
              "      <th>max</th>\n",
              "      <td>0.070295</td>\n",
              "      <td>371.577494</td>\n",
              "      <td>69.676440</td>\n",
              "      <td>0.848503</td>\n",
              "      <td>184.570312</td>\n",
              "      <td>2.157083e-17</td>\n",
              "      <td>2.886751e-01</td>\n",
              "      <td>4.999994e-01</td>\n",
              "      <td>3718.903985</td>\n",
              "      <td>1952.865209</td>\n",
              "    </tr>\n",
              "  </tbody>\n",
              "</table>\n",
              "</div>"
            ],
            "text/plain": [
              "           power  pitch_mean  ...  spectral_centroid  spectral_rolloff\n",
              "count  16.000000   16.000000  ...          16.000000         16.000000\n",
              "mean    0.038524  299.985718  ...        2599.440427       1212.605382\n",
              "std     0.014554   33.257012  ...         532.855880        340.162094\n",
              "min     0.017007  262.946686  ...        1748.283107        701.468727\n",
              "25%     0.028850  271.824377  ...        2260.628976        973.781793\n",
              "50%     0.037779  299.154376  ...        2525.123212       1095.982530\n",
              "75%     0.044941  311.677639  ...        2818.413773       1386.429185\n",
              "max     0.070295  371.577494  ...        3718.903985       1952.865209\n",
              "\n",
              "[8 rows x 10 columns]"
            ]
          },
          "metadata": {},
          "execution_count": 305
        }
      ]
    },
    {
      "cell_type": "markdown",
      "source": [
        "Standard Deviations and IQR features will lead to overfitting if we input them into the model, as it will memorise the values. So we drop those columns and don't use them."
      ],
      "metadata": {
        "id": "j8IJtVd9zQoP"
      }
    },
    {
      "cell_type": "code",
      "source": [
        "Xy_df.drop(\"standard_dev\", axis=1, inplace=True)\n",
        "Xy_df.drop(\"inter_quartile_range\", axis=1, inplace=True)\n",
        "display(Xy_df)"
      ],
      "metadata": {
        "colab": {
          "base_uri": "https://localhost:8080/",
          "height": 424
        },
        "id": "LVzYEl8f1dUT",
        "outputId": "7515d847-886f-46eb-db85-5899822b796f"
      },
      "execution_count": null,
      "outputs": [
        {
          "output_type": "display_data",
          "data": {
            "text/html": [
              "<div>\n",
              "<style scoped>\n",
              "    .dataframe tbody tr th:only-of-type {\n",
              "        vertical-align: middle;\n",
              "    }\n",
              "\n",
              "    .dataframe tbody tr th {\n",
              "        vertical-align: top;\n",
              "    }\n",
              "\n",
              "    .dataframe thead th {\n",
              "        text-align: right;\n",
              "    }\n",
              "</style>\n",
              "<table border=\"1\" class=\"dataframe\">\n",
              "  <thead>\n",
              "    <tr style=\"text-align: right;\">\n",
              "      <th></th>\n",
              "      <th>power</th>\n",
              "      <th>pitch_mean</th>\n",
              "      <th>pitch_std</th>\n",
              "      <th>voiced_fr</th>\n",
              "      <th>tempo</th>\n",
              "      <th>mean</th>\n",
              "      <th>spectral_centroid</th>\n",
              "      <th>spectral_rolloff</th>\n",
              "      <th>label</th>\n",
              "    </tr>\n",
              "  </thead>\n",
              "  <tbody>\n",
              "    <tr>\n",
              "      <th>0</th>\n",
              "      <td>0.001961</td>\n",
              "      <td>107.628769</td>\n",
              "      <td>14.832539</td>\n",
              "      <td>0.461431</td>\n",
              "      <td>86.132812</td>\n",
              "      <td>-2.515434e-18</td>\n",
              "      <td>2965.937031</td>\n",
              "      <td>5438.341823</td>\n",
              "      <td>S1</td>\n",
              "    </tr>\n",
              "    <tr>\n",
              "      <th>1</th>\n",
              "      <td>0.062325</td>\n",
              "      <td>178.451926</td>\n",
              "      <td>26.961858</td>\n",
              "      <td>0.895273</td>\n",
              "      <td>117.453835</td>\n",
              "      <td>8.886594e-18</td>\n",
              "      <td>1250.245496</td>\n",
              "      <td>1694.436009</td>\n",
              "      <td>S3</td>\n",
              "    </tr>\n",
              "    <tr>\n",
              "      <th>2</th>\n",
              "      <td>0.093276</td>\n",
              "      <td>184.280074</td>\n",
              "      <td>27.611400</td>\n",
              "      <td>0.935164</td>\n",
              "      <td>117.453835</td>\n",
              "      <td>9.388888e-17</td>\n",
              "      <td>951.820397</td>\n",
              "      <td>1346.835334</td>\n",
              "      <td>S3</td>\n",
              "    </tr>\n",
              "    <tr>\n",
              "      <th>3</th>\n",
              "      <td>0.053579</td>\n",
              "      <td>179.379037</td>\n",
              "      <td>47.894724</td>\n",
              "      <td>0.850131</td>\n",
              "      <td>123.046875</td>\n",
              "      <td>2.284873e-18</td>\n",
              "      <td>2475.002768</td>\n",
              "      <td>3893.169303</td>\n",
              "      <td>S2</td>\n",
              "    </tr>\n",
              "    <tr>\n",
              "      <th>4</th>\n",
              "      <td>0.017007</td>\n",
              "      <td>308.963787</td>\n",
              "      <td>62.459475</td>\n",
              "      <td>0.726965</td>\n",
              "      <td>86.132812</td>\n",
              "      <td>-1.679682e-17</td>\n",
              "      <td>2795.391334</td>\n",
              "      <td>1035.081817</td>\n",
              "      <td>S4</td>\n",
              "    </tr>\n",
              "    <tr>\n",
              "      <th>...</th>\n",
              "      <td>...</td>\n",
              "      <td>...</td>\n",
              "      <td>...</td>\n",
              "      <td>...</td>\n",
              "      <td>...</td>\n",
              "      <td>...</td>\n",
              "      <td>...</td>\n",
              "      <td>...</td>\n",
              "      <td>...</td>\n",
              "    </tr>\n",
              "    <tr>\n",
              "      <th>2328</th>\n",
              "      <td>0.031687</td>\n",
              "      <td>307.023398</td>\n",
              "      <td>39.501277</td>\n",
              "      <td>0.618716</td>\n",
              "      <td>129.199219</td>\n",
              "      <td>-7.558533e-07</td>\n",
              "      <td>2656.996347</td>\n",
              "      <td>2247.546812</td>\n",
              "      <td>S219</td>\n",
              "    </tr>\n",
              "    <tr>\n",
              "      <th>2329</th>\n",
              "      <td>0.047295</td>\n",
              "      <td>311.761314</td>\n",
              "      <td>36.530366</td>\n",
              "      <td>0.626450</td>\n",
              "      <td>135.999178</td>\n",
              "      <td>-7.558533e-07</td>\n",
              "      <td>3002.811066</td>\n",
              "      <td>2050.084175</td>\n",
              "      <td>S219</td>\n",
              "    </tr>\n",
              "    <tr>\n",
              "      <th>2330</th>\n",
              "      <td>0.052952</td>\n",
              "      <td>369.959393</td>\n",
              "      <td>65.796661</td>\n",
              "      <td>0.865214</td>\n",
              "      <td>143.554688</td>\n",
              "      <td>-1.087210e-17</td>\n",
              "      <td>1680.673842</td>\n",
              "      <td>2523.955575</td>\n",
              "      <td>S221</td>\n",
              "    </tr>\n",
              "    <tr>\n",
              "      <th>2331</th>\n",
              "      <td>0.040358</td>\n",
              "      <td>374.951747</td>\n",
              "      <td>67.870846</td>\n",
              "      <td>0.876593</td>\n",
              "      <td>143.554688</td>\n",
              "      <td>2.750791e-18</td>\n",
              "      <td>1202.524146</td>\n",
              "      <td>1130.283753</td>\n",
              "      <td>S221</td>\n",
              "    </tr>\n",
              "    <tr>\n",
              "      <th>2332</th>\n",
              "      <td>0.045759</td>\n",
              "      <td>384.499356</td>\n",
              "      <td>46.817217</td>\n",
              "      <td>0.809836</td>\n",
              "      <td>107.666016</td>\n",
              "      <td>-1.606903e-17</td>\n",
              "      <td>3268.613055</td>\n",
              "      <td>5400.541464</td>\n",
              "      <td>S222</td>\n",
              "    </tr>\n",
              "  </tbody>\n",
              "</table>\n",
              "<p>2333 rows × 9 columns</p>\n",
              "</div>"
            ],
            "text/plain": [
              "         power  pitch_mean  ...  spectral_rolloff  label\n",
              "0     0.001961  107.628769  ...       5438.341823     S1\n",
              "1     0.062325  178.451926  ...       1694.436009     S3\n",
              "2     0.093276  184.280074  ...       1346.835334     S3\n",
              "3     0.053579  179.379037  ...       3893.169303     S2\n",
              "4     0.017007  308.963787  ...       1035.081817     S4\n",
              "...        ...         ...  ...               ...    ...\n",
              "2328  0.031687  307.023398  ...       2247.546812   S219\n",
              "2329  0.047295  311.761314  ...       2050.084175   S219\n",
              "2330  0.052952  369.959393  ...       2523.955575   S221\n",
              "2331  0.040358  374.951747  ...       1130.283753   S221\n",
              "2332  0.045759  384.499356  ...       5400.541464   S222\n",
              "\n",
              "[2333 rows x 9 columns]"
            ]
          },
          "metadata": {}
        }
      ]
    },
    {
      "cell_type": "code",
      "source": [
        "# Select a subset of samples at random (25 samples)\n",
        "\n",
        "v = [\"S82\", \"S169\", \"S219\", \"S63\", \"S4\", \"S7\", \"S49\", \"S205\",\n",
        "     \"S119\", \"S152\", \"S201\", \"S69\", \"S111\", \"S17\", \"S41\", \"S84\",\n",
        "     \"S8\", \"S128\", \"S216\", \"S23\", \"S70\", \"S51\", \"S38\", \"S157\", \"S70\", \"S166\"]\n",
        "\n",
        "Xy_df = Xy_df[Xy_df[\"label\"].isin(v)]\n",
        "\n",
        "Xy_df"
      ],
      "metadata": {
        "colab": {
          "base_uri": "https://localhost:8080/",
          "height": 424
        },
        "id": "emOGqd6kjm9a",
        "outputId": "f9f42a11-ca34-4fad-a342-a23df7abdfc9"
      },
      "execution_count": null,
      "outputs": [
        {
          "output_type": "execute_result",
          "data": {
            "text/html": [
              "<div>\n",
              "<style scoped>\n",
              "    .dataframe tbody tr th:only-of-type {\n",
              "        vertical-align: middle;\n",
              "    }\n",
              "\n",
              "    .dataframe tbody tr th {\n",
              "        vertical-align: top;\n",
              "    }\n",
              "\n",
              "    .dataframe thead th {\n",
              "        text-align: right;\n",
              "    }\n",
              "</style>\n",
              "<table border=\"1\" class=\"dataframe\">\n",
              "  <thead>\n",
              "    <tr style=\"text-align: right;\">\n",
              "      <th></th>\n",
              "      <th>power</th>\n",
              "      <th>pitch_mean</th>\n",
              "      <th>pitch_std</th>\n",
              "      <th>voiced_fr</th>\n",
              "      <th>tempo</th>\n",
              "      <th>mean</th>\n",
              "      <th>spectral_centroid</th>\n",
              "      <th>spectral_rolloff</th>\n",
              "      <th>label</th>\n",
              "    </tr>\n",
              "  </thead>\n",
              "  <tbody>\n",
              "    <tr>\n",
              "      <th>4</th>\n",
              "      <td>0.017007</td>\n",
              "      <td>308.963787</td>\n",
              "      <td>62.459475</td>\n",
              "      <td>0.726965</td>\n",
              "      <td>86.132812</td>\n",
              "      <td>-1.679682e-17</td>\n",
              "      <td>2795.391334</td>\n",
              "      <td>1035.081817</td>\n",
              "      <td>S4</td>\n",
              "    </tr>\n",
              "    <tr>\n",
              "      <th>6</th>\n",
              "      <td>0.028984</td>\n",
              "      <td>312.970885</td>\n",
              "      <td>63.886706</td>\n",
              "      <td>0.719570</td>\n",
              "      <td>73.828125</td>\n",
              "      <td>-1.863708e-17</td>\n",
              "      <td>2690.345685</td>\n",
              "      <td>1450.330610</td>\n",
              "      <td>S4</td>\n",
              "    </tr>\n",
              "    <tr>\n",
              "      <th>9</th>\n",
              "      <td>0.038937</td>\n",
              "      <td>338.400158</td>\n",
              "      <td>59.866070</td>\n",
              "      <td>0.837856</td>\n",
              "      <td>129.199219</td>\n",
              "      <td>-1.326229e-17</td>\n",
              "      <td>1643.871114</td>\n",
              "      <td>2106.265735</td>\n",
              "      <td>S7</td>\n",
              "    </tr>\n",
              "    <tr>\n",
              "      <th>10</th>\n",
              "      <td>0.020761</td>\n",
              "      <td>338.686076</td>\n",
              "      <td>56.353777</td>\n",
              "      <td>0.805292</td>\n",
              "      <td>129.199219</td>\n",
              "      <td>-1.326229e-17</td>\n",
              "      <td>1867.296068</td>\n",
              "      <td>2287.281963</td>\n",
              "      <td>S7</td>\n",
              "    </tr>\n",
              "    <tr>\n",
              "      <th>12</th>\n",
              "      <td>0.045450</td>\n",
              "      <td>284.082884</td>\n",
              "      <td>58.904100</td>\n",
              "      <td>0.723125</td>\n",
              "      <td>103.359375</td>\n",
              "      <td>-7.554057e-07</td>\n",
              "      <td>4176.688585</td>\n",
              "      <td>8146.561979</td>\n",
              "      <td>S8</td>\n",
              "    </tr>\n",
              "    <tr>\n",
              "      <th>...</th>\n",
              "      <td>...</td>\n",
              "      <td>...</td>\n",
              "      <td>...</td>\n",
              "      <td>...</td>\n",
              "      <td>...</td>\n",
              "      <td>...</td>\n",
              "      <td>...</td>\n",
              "      <td>...</td>\n",
              "      <td>...</td>\n",
              "    </tr>\n",
              "    <tr>\n",
              "      <th>2311</th>\n",
              "      <td>0.046141</td>\n",
              "      <td>372.576814</td>\n",
              "      <td>75.339711</td>\n",
              "      <td>0.906226</td>\n",
              "      <td>129.199219</td>\n",
              "      <td>2.311662e-18</td>\n",
              "      <td>1466.602427</td>\n",
              "      <td>1991.912321</td>\n",
              "      <td>S205</td>\n",
              "    </tr>\n",
              "    <tr>\n",
              "      <th>2324</th>\n",
              "      <td>0.047624</td>\n",
              "      <td>154.737755</td>\n",
              "      <td>21.201614</td>\n",
              "      <td>0.837190</td>\n",
              "      <td>123.046875</td>\n",
              "      <td>-8.077440e-07</td>\n",
              "      <td>1439.231559</td>\n",
              "      <td>2378.991840</td>\n",
              "      <td>S216</td>\n",
              "    </tr>\n",
              "    <tr>\n",
              "      <th>2325</th>\n",
              "      <td>0.056660</td>\n",
              "      <td>151.983326</td>\n",
              "      <td>19.421555</td>\n",
              "      <td>0.821839</td>\n",
              "      <td>103.359375</td>\n",
              "      <td>-8.024343e-07</td>\n",
              "      <td>1871.278282</td>\n",
              "      <td>3033.847993</td>\n",
              "      <td>S216</td>\n",
              "    </tr>\n",
              "    <tr>\n",
              "      <th>2328</th>\n",
              "      <td>0.031687</td>\n",
              "      <td>307.023398</td>\n",
              "      <td>39.501277</td>\n",
              "      <td>0.618716</td>\n",
              "      <td>129.199219</td>\n",
              "      <td>-7.558533e-07</td>\n",
              "      <td>2656.996347</td>\n",
              "      <td>2247.546812</td>\n",
              "      <td>S219</td>\n",
              "    </tr>\n",
              "    <tr>\n",
              "      <th>2329</th>\n",
              "      <td>0.047295</td>\n",
              "      <td>311.761314</td>\n",
              "      <td>36.530366</td>\n",
              "      <td>0.626450</td>\n",
              "      <td>135.999178</td>\n",
              "      <td>-7.558533e-07</td>\n",
              "      <td>3002.811066</td>\n",
              "      <td>2050.084175</td>\n",
              "      <td>S219</td>\n",
              "    </tr>\n",
              "  </tbody>\n",
              "</table>\n",
              "<p>400 rows × 9 columns</p>\n",
              "</div>"
            ],
            "text/plain": [
              "         power  pitch_mean  ...  spectral_rolloff  label\n",
              "4     0.017007  308.963787  ...       1035.081817     S4\n",
              "6     0.028984  312.970885  ...       1450.330610     S4\n",
              "9     0.038937  338.400158  ...       2106.265735     S7\n",
              "10    0.020761  338.686076  ...       2287.281963     S7\n",
              "12    0.045450  284.082884  ...       8146.561979     S8\n",
              "...        ...         ...  ...               ...    ...\n",
              "2311  0.046141  372.576814  ...       1991.912321   S205\n",
              "2324  0.047624  154.737755  ...       2378.991840   S216\n",
              "2325  0.056660  151.983326  ...       3033.847993   S216\n",
              "2328  0.031687  307.023398  ...       2247.546812   S219\n",
              "2329  0.047295  311.761314  ...       2050.084175   S219\n",
              "\n",
              "[400 rows x 9 columns]"
            ]
          },
          "metadata": {},
          "execution_count": 336
        }
      ]
    },
    {
      "cell_type": "code",
      "source": [
        "Xy_df = Xy_df[[\"power\", \"pitch_mean\", \"pitch_std\", \"voiced_fr\", \"spectral_centroid\", \"spectral_rolloff\", \"label\"]]"
      ],
      "metadata": {
        "id": "cvrKGCi27Bzo"
      },
      "execution_count": null,
      "outputs": []
    },
    {
      "cell_type": "code",
      "source": [
        "# Create X and y arrays ready to input into model\n",
        "\n",
        "X = Xy_df[[\"power\", \"pitch_mean\", \"pitch_std\", \"voiced_fr\", \"spectral_centroid\", \"spectral_rolloff\"]].to_numpy()\n",
        "y = Xy_df[\"label\"].to_numpy()"
      ],
      "metadata": {
        "id": "0bzVCqwaQPEn"
      },
      "execution_count": null,
      "outputs": []
    },
    {
      "cell_type": "markdown",
      "source": [
        "When plotting these features, we bear in mind that features with high variance provide much more information, and are likely to be \"useful\" features in prediction, whereas features with low variance are likely to not help the model."
      ],
      "metadata": {
        "id": "Ku2cViSJFjnL"
      }
    },
    {
      "cell_type": "code",
      "source": [
        "power = []\n",
        "\n",
        "for e in X:\n",
        "    power.append(e[0])\n",
        "\n",
        "plt.hist(power, bins=20, rwidth=0.8)\n",
        "plt.title(\"Number of samples with a given power\")\n",
        "plt.xlabel(\"Power\")\n",
        "plt.ylabel(\"Frequency\")"
      ],
      "metadata": {
        "colab": {
          "base_uri": "https://localhost:8080/",
          "height": 312
        },
        "id": "dKDN6tqeDcFy",
        "outputId": "55a72bf2-b4ac-4e86-9ec0-25ecad0b7dfd"
      },
      "execution_count": null,
      "outputs": [
        {
          "output_type": "execute_result",
          "data": {
            "text/plain": [
              "Text(0, 0.5, 'Frequency')"
            ]
          },
          "metadata": {},
          "execution_count": 343
        },
        {
          "output_type": "display_data",
          "data": {
            "image/png": "[encoded data removed]",
            "text/plain": [
              "<Figure size 432x288 with 1 Axes>"
            ]
          },
          "metadata": {
            "needs_background": "light"
          }
        }
      ]
    },
    {
      "cell_type": "code",
      "source": [
        "pitch_mean = []\n",
        "\n",
        "for e in X:\n",
        "    pitch_mean.append(e[1])\n",
        "\n",
        "plt.hist(pitch_mean, bins=20, rwidth=0.8)\n",
        "plt.title(\"Number of samples with a given pitch_mean\")\n",
        "plt.xlabel(\"pitch_mean\")\n",
        "plt.ylabel(\"Frequency\")"
      ],
      "metadata": {
        "colab": {
          "base_uri": "https://localhost:8080/",
          "height": 313
        },
        "id": "pAdEteAmEWfp",
        "outputId": "c9960b51-f8d2-4e71-ed86-7772790d82f7"
      },
      "execution_count": null,
      "outputs": [
        {
          "output_type": "execute_result",
          "data": {
            "text/plain": [
              "Text(0, 0.5, 'Frequency')"
            ]
          },
          "metadata": {},
          "execution_count": 351
        },
        {
          "output_type": "display_data",
          "data": {
            "image/png": "[encoded data removed]",
            "text/plain": [
              "<Figure size 432x288 with 1 Axes>"
            ]
          },
          "metadata": {
            "needs_background": "light"
          }
        }
      ]
    },
    {
      "cell_type": "code",
      "source": [
        "pitch_std = []\n",
        "\n",
        "for e in X:\n",
        "    pitch_std.append(e[2])\n",
        "\n",
        "plt.hist(pitch_std, bins=20, rwidth=0.8)\n",
        "plt.title(\"Number of samples with a given pitch_std\")\n",
        "plt.xlabel(\"pitch_std\")\n",
        "plt.ylabel(\"Frequency\")"
      ],
      "metadata": {
        "colab": {
          "base_uri": "https://localhost:8080/",
          "height": 313
        },
        "id": "qkwPPDj8EhoU",
        "outputId": "997f096f-f79a-49de-bb3e-d18dfe00a79f"
      },
      "execution_count": null,
      "outputs": [
        {
          "output_type": "execute_result",
          "data": {
            "text/plain": [
              "Text(0, 0.5, 'Frequency')"
            ]
          },
          "metadata": {},
          "execution_count": 352
        },
        {
          "output_type": "display_data",
          "data": {
            "image/png": "[encoded data removed]",
            "text/plain": [
              "<Figure size 432x288 with 1 Axes>"
            ]
          },
          "metadata": {
            "needs_background": "light"
          }
        }
      ]
    },
    {
      "cell_type": "code",
      "source": [
        "spectral_centroid = []\n",
        "\n",
        "for e in X:\n",
        "    spectral_centroid.append(e[4])\n",
        "\n",
        "plt.hist(spectral_centroid, bins=20, rwidth=0.8)\n",
        "plt.title(\"Number of samples with a given spectral_centroid\")\n",
        "plt.xlabel(\"spectral_centroid\")\n",
        "plt.ylabel(\"Frequency\")"
      ],
      "metadata": {
        "colab": {
          "base_uri": "https://localhost:8080/",
          "height": 313
        },
        "id": "tNfqGWnOEaJj",
        "outputId": "e27bdbd5-b774-4bc4-a8e2-57f62d104df2"
      },
      "execution_count": null,
      "outputs": [
        {
          "output_type": "execute_result",
          "data": {
            "text/plain": [
              "Text(0, 0.5, 'Frequency')"
            ]
          },
          "metadata": {},
          "execution_count": 354
        },
        {
          "output_type": "display_data",
          "data": {
            "image/png": "[encoded data removed]",
            "text/plain": [
              "<Figure size 432x288 with 1 Axes>"
            ]
          },
          "metadata": {
            "needs_background": "light"
          }
        }
      ]
    },
    {
      "cell_type": "code",
      "source": [
        "spectral_rolloff = []\n",
        "\n",
        "for e in X:\n",
        "    spectral_rolloff.append(e[5])\n",
        "\n",
        "plt.hist(spectral_rolloff, bins=20, rwidth=0.8)\n",
        "plt.title(\"Number of samples with a given spectral_rolloff\")\n",
        "plt.xlabel(\"spectral_rolloff\")\n",
        "plt.ylabel(\"Frequency\")"
      ],
      "metadata": {
        "colab": {
          "base_uri": "https://localhost:8080/",
          "height": 313
        },
        "id": "j6Mor4M4GAYY",
        "outputId": "39021e09-ac23-46cc-a120-87dafdb5ad75"
      },
      "execution_count": null,
      "outputs": [
        {
          "output_type": "execute_result",
          "data": {
            "text/plain": [
              "Text(0, 0.5, 'Frequency')"
            ]
          },
          "metadata": {},
          "execution_count": 355
        },
        {
          "output_type": "display_data",
          "data": {
            "image/png": "[encoded data removed]",
            "text/plain": [
              "<Figure size 432x288 with 1 Axes>"
            ]
          },
          "metadata": {
            "needs_background": "light"
          }
        }
      ]
    },
    {
      "cell_type": "markdown",
      "source": [
        "Spectral rolloff, spectral centroid, pitch_std and pitch_mean may provide a lot of valuable information to the model."
      ],
      "metadata": {
        "id": "A1ABoyOHGMg6"
      }
    },
    {
      "cell_type": "markdown",
      "metadata": {
        "id": "2qf7GN1aeXJI"
      },
      "source": [
        "# Results\n",
        "\n",
        "The SVM has an average cross validation score of 0.64, compared to 0.62 of the ExtraTreesClassifier. The training accuracy of both models are very high at 0.93(SVM) and 1.0 (ExtraTreesClassifier). The test accuracy of the SVM is 0.75. Looking at these values, it is clear that the models have overfitted to the training data, as there is over a 0.30 difference between the cross validation scores and the training accuracy. One reason for this is that too many features were selected to train the models with (6). As a result, the model is memorising patterns in the data and therefore is unable to generalise to unseen data. However, another problem is that if a lower number of samples are used, e.g. 2, the model hugely underfits. Therefore, the bigger concern may be that there are not enough samples for each class, which causes this behaviour in the accuracies shown. \n",
        "\n",
        "Many techniques were performed such as PCA, to reduce the number of predictors. Using different scaling strategies such as MinMaxScaling was also attempted. However, none of these yielded an increase in performance in the trained models, therefore are excluded in the final implementation. "
      ]
    },
    {
      "cell_type": "code",
      "metadata": {
        "id": "OrnCTDUOyNiV"
      },
      "source": [
        "from sklearn import svm\n",
        "from sklearn.linear_model import LogisticRegression\n",
        "from sklearn.model_selection import train_test_split\n",
        "from sklearn.metrics import confusion_matrix\n",
        "from sklearn.preprocessing import StandardScaler\n",
        "from sklearn.model_selection import KFold\n",
        "from sklearn.model_selection import cross_val_score\n",
        "from sklearn.model_selection import cross_validate\n",
        "from sklearn.model_selection import GridSearchCV\n",
        "from sklearn.neighbors import KNeighborsClassifier\n",
        "from sklearn.metrics import classification_report\n",
        "from sklearn.decomposition import PCA\n",
        "from sklearn.preprocessing import MinMaxScaler\n",
        "import matplotlib.pyplot as plt\n",
        "from sklearn.cluster import DBSCAN\n",
        "from sklearn.pipeline import Pipeline\n",
        "from sklearn.pipeline import make_pipeline\n",
        "import seaborn as sn\n",
        "import pandas as pd\n",
        "\n",
        "X_train, X_test, y_train, y_test = train_test_split(X,y,test_size=0.2, stratify=y)"
      ],
      "execution_count": null,
      "outputs": []
    },
    {
      "cell_type": "code",
      "source": [
        "inner_cross = KFold(n_splits=3, shuffle=True, random_state=5)\n",
        "\n",
        "svm_pipe = Pipeline([(\"scaler\", StandardScaler()),\n",
        "                       (\"svm\", svm.SVC(decision_function_shape=\"ovr\"))])\n",
        "params = {\n",
        "    \"svm__C\": [1, 5, 10, 50],\n",
        "    \"svm__gamma\": [0.1, 0.5, 1]\n",
        "}\n",
        "\n",
        "gridSearch = GridSearchCV(estimator=svm_pipe,\n",
        "                          param_grid=params,\n",
        "                          cv=inner_cross,\n",
        "                          refit=True)\n",
        "\n",
        "outer_cross = KFold(n_splits=10, shuffle=True, random_state=5)\n",
        "score = cross_val_score(gridSearch, X_train, y_train, cv=outer_cross)\n",
        "print(\"Score: \", score.mean())"
      ],
      "metadata": {
        "colab": {
          "base_uri": "https://localhost:8080/"
        },
        "id": "Ar4-hDFb_5Tm",
        "outputId": "0d0adf4f-6b3c-40e4-8268-8d92bf09003c"
      },
      "execution_count": null,
      "outputs": [
        {
          "output_type": "stream",
          "name": "stdout",
          "text": [
            "Score:  0.6375\n"
          ]
        }
      ]
    },
    {
      "cell_type": "code",
      "source": [
        "gridSearch.fit(X_train, y_train)\n",
        "print(\"Training accuracy: \", gridSearch.score(X_train, y_train))\n",
        "print(\"Test accuracy: \", gridSearch.score(X_test, y_test))\n",
        "ypred = gridSearch.predict(X_test)\n",
        "print(classification_report(y_test, gridSearch.predict(X_test)))"
      ],
      "metadata": {
        "colab": {
          "base_uri": "https://localhost:8080/"
        },
        "id": "ALtmR_P1AGro",
        "outputId": "38c3603f-e75c-4278-f17d-abb8d2dd9ab8"
      },
      "execution_count": null,
      "outputs": [
        {
          "output_type": "stream",
          "name": "stdout",
          "text": [
            "Training accuracy:  0.9375\n",
            "Test accuracy:  0.75\n",
            "              precision    recall  f1-score   support\n",
            "\n",
            "        S111       1.00      1.00      1.00         3\n",
            "        S119       0.33      0.33      0.33         3\n",
            "        S128       0.75      1.00      0.86         3\n",
            "        S152       0.75      1.00      0.86         3\n",
            "        S157       0.75      1.00      0.86         3\n",
            "        S166       1.00      1.00      1.00         3\n",
            "        S169       0.67      0.67      0.67         3\n",
            "         S17       0.75      1.00      0.86         3\n",
            "        S201       1.00      0.67      0.80         3\n",
            "        S205       0.33      0.33      0.33         3\n",
            "        S216       0.33      0.25      0.29         4\n",
            "        S219       0.75      1.00      0.86         3\n",
            "         S23       1.00      0.67      0.80         3\n",
            "         S38       0.75      1.00      0.86         3\n",
            "          S4       1.00      0.67      0.80         3\n",
            "         S41       0.60      1.00      0.75         3\n",
            "         S49       1.00      1.00      1.00         4\n",
            "         S51       1.00      1.00      1.00         4\n",
            "         S63       0.67      0.50      0.57         4\n",
            "         S69       0.67      0.67      0.67         3\n",
            "          S7       1.00      0.75      0.86         4\n",
            "         S70       1.00      0.67      0.80         3\n",
            "          S8       0.50      0.33      0.40         3\n",
            "         S82       0.67      0.67      0.67         3\n",
            "         S84       0.67      0.67      0.67         3\n",
            "\n",
            "    accuracy                           0.75        80\n",
            "   macro avg       0.76      0.75      0.74        80\n",
            "weighted avg       0.76      0.75      0.74        80\n",
            "\n"
          ]
        }
      ]
    },
    {
      "cell_type": "code",
      "source": [
        "from sklearn.ensemble import ExtraTreesClassifier\n",
        "\n",
        "inner_cross = KFold(n_splits=5, shuffle=True, random_state=5)\n",
        "\n",
        "etc_pipe = Pipeline([(\"scaler\", StandardScaler()),\n",
        "                       (\"etc\", ExtraTreesClassifier())])\n",
        "params = {\n",
        "    \"etc__n_estimators\": [50, 100, 150],\n",
        "}\n",
        "\n",
        "gridSearch_etc = GridSearchCV(estimator=etc_pipe,\n",
        "                          param_grid=params,\n",
        "                          cv=inner_cross,\n",
        "                          refit=True)\n",
        "\n",
        "outer_cross = KFold(n_splits=10, shuffle=True, random_state=5)\n",
        "score = cross_val_score(gridSearch_etc, X_train, y_train, cv=outer_cross)\n",
        "print(\"Score: \", score.mean())"
      ],
      "metadata": {
        "colab": {
          "base_uri": "https://localhost:8080/"
        },
        "id": "RSnnzUtZVRDA",
        "outputId": "444de97b-d008-4b08-84a7-bdbcd7df982d"
      },
      "execution_count": null,
      "outputs": [
        {
          "output_type": "stream",
          "name": "stdout",
          "text": [
            "Score:  0.615625\n"
          ]
        }
      ]
    },
    {
      "cell_type": "code",
      "source": [
        "gridSearch_etc.fit(X_train, y_train)\n",
        "print(\"Training accuracy: \", gridSearch_etc.score(X_train, y_train))"
      ],
      "metadata": {
        "colab": {
          "base_uri": "https://localhost:8080/"
        },
        "id": "hrUoXR4lZg7O",
        "outputId": "2ed7439b-73b7-47bd-e5e9-43ccd1c8e2f2"
      },
      "execution_count": null,
      "outputs": [
        {
          "output_type": "stream",
          "name": "stdout",
          "text": [
            "Training accuracy:  1.0\n"
          ]
        }
      ]
    },
    {
      "cell_type": "markdown",
      "metadata": {
        "id": "fSrJCR_cekPO"
      },
      "source": [
        "# Conclusions\n",
        "\n",
        "In conclusion, to improve the performance of these models, more data is definitely needed. Participants could be asked to add audio files for more songs to the dataset. Different feature extraction methods could be used to reduce the number of features needed, thus bringing down the complexity of the model, and reducing the overfit. Running cross-validation across more folds would also be of benefit, however we should be wary of the computational cost of doing this. As always, different machine learning algorithms could be tested, especially ensemble algorithms in this case, to see if they perform better."
      ]
    }
  ]
}